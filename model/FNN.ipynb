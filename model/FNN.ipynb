{
 "cells": [
  {
   "cell_type": "markdown",
   "metadata": {},
   "source": [
    "# Make a simple FeedForward network for the bus data\n",
    "\n",
    "## Initialization"
   ]
  },
  {
   "cell_type": "code",
   "execution_count": 1,
   "metadata": {},
   "outputs": [],
   "source": [
    "import sys\n",
    "sys.path.append('../misc')\n",
    "\n",
    "from MoviaBusDataset import MoviaBusDataset\n",
    "from BaseNetwork import BaseNetwork\n",
    "import torch\n",
    "from torch.nn import Linear, Sequential, ReLU, L1Loss\n",
    "from torch.optim import Adam, lr_scheduler\n",
    "import numpy as np"
   ]
  },
  {
   "cell_type": "markdown",
   "metadata": {},
   "source": [
    "## Import data using the MoviaBusDataset"
   ]
  },
  {
   "cell_type": "code",
   "execution_count": 2,
   "metadata": {},
   "outputs": [],
   "source": [
    "previous_timesteps = 6\n",
    "prediction_steps = 3\n",
    "batch_size = 25\n",
    "num_epochs = 100\n",
    "\n",
    "train = MoviaBusDataset('../data/train', interpolation=True, prev_timesteps=previous_timesteps, max_future_time_steps=prediction_steps, timeofday = True)\n",
    "test = MoviaBusDataset('../data/test', interpolation=True, prev_timesteps=previous_timesteps, max_future_time_steps=prediction_steps, timeofday = True)\n",
    "\n",
    "train.normalize()\n",
    "test.normalize(train.mean, train.std)"
   ]
  },
  {
   "cell_type": "markdown",
   "metadata": {},
   "source": [
    "## The Model"
   ]
  },
  {
   "cell_type": "code",
   "execution_count": 3,
   "metadata": {},
   "outputs": [],
   "source": [
    "class FNN(BaseNetwork):\n",
    "    def __init__(self, num_hidden):\n",
    "        super().__init__()\n",
    "        \n",
    "\n",
    "        self.FNN = Sequential(\n",
    "            Linear(previous_timesteps+1, num_hidden),\n",
    "            ReLU(),\n",
    "            Linear(num_hidden, num_hidden),\n",
    "            ReLU(),\n",
    "            Linear(num_hidden, 1),\n",
    "        )\n",
    "\n",
    "    def forward(self,x):\n",
    "        \"\"\"\n",
    "        x : [batch_size, prev_timesteps, num_roads]\n",
    "        \n",
    "        \"\"\"\n",
    "        #Transpose input, such that the previous time steps are the last dimension\n",
    "        x = x.transpose(2,1)\n",
    "\n",
    "        predictions = []\n",
    "        for _ in range(self.max_timestep):\n",
    "            #Run the input through the network\n",
    "            prediction = self.FNN(x).squeeze()\n",
    "\n",
    "            #Append the prediction to the list of predictions. \n",
    "            #If the data includes timeofday, this shouldn't be included\n",
    "            predictions.append(prediction[:,:self.num_roads])\n",
    "\n",
    "            #remove oldest timestep\n",
    "            x = x[:,:,1:]\n",
    "            #unsqueeze output so its size is [batch_size, num_roads, timesteps]\n",
    "            prediction = prediction.unsqueeze(2)\n",
    "\n",
    "            #append the new prediction to the input\n",
    "            x = torch.cat((x,prediction),dim=2)\n",
    "\n",
    "\n",
    "        return torch.stack(predictions,1)\n",
    "\n",
    "net = FNN(num_hidden=100)\n",
    "\n",
    "optimizer_fun = lambda param : Adam(param, lr=1e-2, weight_decay=1e-4)\n",
    "scheduler_fun = lambda optim : lr_scheduler.StepLR(optim, step_size=10, gamma=0.1)\n",
    "criterion = L1Loss()"
   ]
  },
  {
   "cell_type": "code",
   "execution_count": 4,
   "metadata": {},
   "outputs": [
    {
     "data": {
      "text/plain": [
       "{'data': tensor([[ 0.5934, -0.1722,  0.3096,  ...,  0.5887, -0.3316,  0.2803],\n",
       "         [-1.5129, -0.4114,  1.5964,  ...,  0.4903,  1.6398,  0.2841],\n",
       "         [-0.3628,  0.8573, -0.7509,  ...,  0.2151,  0.7666,  0.2879],\n",
       "         ...,\n",
       "         [-1.0357,  0.8193,  0.4174,  ..., -1.0039,  1.7890,  0.2955],\n",
       "         [ 0.5031,  1.1165, -0.3916,  ..., -0.6121,  0.1225,  0.2992],\n",
       "         [ 0.5257,  0.9196, -0.2602,  ..., -0.2203, -1.5440,  0.3030]]),\n",
       " 'target': tensor([[ 0.7827,  0.5483, -0.6762, -0.3714, -0.4209, -0.2062,  0.6613,  0.0310,\n",
       "          -0.3420, -4.4938,  0.3545, -1.3696,  0.2946, -0.9763, -0.3234,  0.5122,\n",
       "           0.2355,  0.0938, -0.3928, -0.1647,  0.5333, -1.8450, -0.2074, -1.2911,\n",
       "          -0.0143, -0.7088,  0.2245,  0.6666,  0.4820,  0.5480,  0.3637,  0.4563,\n",
       "           2.1519,  2.3912, -0.6493,  2.1873,  2.4583,  0.7182,  1.9328,  0.6199,\n",
       "          -1.1852, -0.1627, -0.7424,  1.0879, -1.5996, -0.2027, -0.2765, -0.2142,\n",
       "           0.8565, -0.4696, -0.3290, -0.4134, -0.3372, -0.2983,  0.0870, -0.5448,\n",
       "          -0.1593,  0.2883,  0.0443,  0.4486,  0.7351,  0.3728, -0.0005, -0.0336,\n",
       "           0.6722,  0.5526,  0.5237,  0.4084, -0.4067,  0.2741,  0.7617,  0.2208,\n",
       "          -0.8254, -0.2686,  0.4414,  1.3453,  0.8658, -1.0157,  0.7287,  0.7825,\n",
       "          -0.0584,  0.2374,  0.0966,  0.7681,  1.6372,  0.9289,  1.0101,  0.1248,\n",
       "          -0.7727,  0.7794,  0.5469,  0.2623,  0.4913, -0.4690, -0.4598,  0.4692,\n",
       "          -1.1235,  0.9678,  0.4973,  0.2071, -2.6807, -1.0937, -0.0462,  2.7485,\n",
       "          -0.1393,  0.5575,  0.7511,  0.8204,  2.0357, -1.0090, -0.5185,  0.4904,\n",
       "           0.2361,  0.6101, -0.9632,  0.5164,  1.8877,  0.1130,  0.2117, -0.1916,\n",
       "          -2.0257,  0.4315,  2.2187, -0.6768,  0.2224,  1.5341,  1.2608,  0.7465,\n",
       "           2.8875, -1.1994, -0.8840, -0.1414,  0.8186,  0.6527,  0.6401, -0.1458,\n",
       "          -1.2475, -0.2708, -0.0464,  0.2127, -0.9253, -0.2350, -0.2740,  0.0701,\n",
       "           0.3759,  0.2717,  0.3488, -0.3498, -0.1766,  0.2874, -0.3358, -0.2768,\n",
       "           0.9339,  0.4897,  1.1152,  0.0993, -1.0801,  1.2118, -0.5343, -0.0256,\n",
       "           0.6123,  1.6948,  0.6229,  1.6124, -0.3046,  0.4703, -0.3596,  0.9824,\n",
       "           0.1054, -0.7306, -0.4975,  0.9176,  1.2979, -0.2517, -0.3259,  1.1998,\n",
       "           0.1732, -2.2172, -0.5276,  0.0074,  0.1317, -0.4815,  0.0936,  0.0011,\n",
       "          -0.2204, -0.4735,  1.0923,  0.0298,  0.2360,  1.0438, -0.0015, -0.9670,\n",
       "          -0.3019,  1.3353],\n",
       "         [ 0.7023,  0.6835, -0.6396, -0.4231,  0.7566,  1.7594,  0.2110, -0.6160,\n",
       "          -0.5770, -2.6523,  0.5401, -0.8482, -0.4712, -1.3490, -0.6205, -0.5500,\n",
       "           0.0338, -0.5075, -0.7089, -0.6965,  0.6639, -2.6247, -0.5043, -1.5414,\n",
       "           0.0459, -0.5643, -0.0632, -0.0421,  0.7647,  0.9059, -0.6430, -0.5357,\n",
       "           0.1636, -0.3595,  0.5160, -0.7849, -0.9465, -0.6080,  0.4308,  0.7874,\n",
       "          -0.9453, -0.3125,  1.6183,  0.9796,  0.3920,  0.1985,  0.8074, -1.3372,\n",
       "           1.1808, -0.0363, -0.6980,  0.1802, -0.9498, -0.6648, -1.2699, -0.4489,\n",
       "           0.4220,  0.5651,  0.8081, -0.0236,  0.7928, -0.0786,  0.1217,  0.4589,\n",
       "           0.1808,  0.8152,  0.2771,  0.7839,  0.6606, -0.1963,  0.5615,  0.5551,\n",
       "           1.1192,  0.7086, -0.0955,  0.3167,  0.6419, -0.9005,  0.6862,  0.2636,\n",
       "          -1.0266,  0.5346,  0.5264,  0.6686, -0.4922,  0.6991,  0.2519,  0.0180,\n",
       "           1.0743, -0.0568, -2.2731, -0.1078,  0.1929, -0.3582, -0.0429, -0.2348,\n",
       "          -0.7042,  0.6257, -0.5041,  0.1721, -1.6423, -1.0325,  0.7528, -0.7196,\n",
       "          -0.0903, -0.8461,  0.9314,  1.0345,  0.0343, -0.4338, -0.1379, -0.1905,\n",
       "           0.1626,  0.2134,  0.3653,  1.2746,  0.5691,  0.3997,  0.8365, -0.2463,\n",
       "          -1.5659,  0.7777,  0.7017, -0.0000, -0.1974,  0.7230,  1.1906,  0.9141,\n",
       "           1.4081,  0.2646, -1.0872, -0.2345, -0.9132,  0.2212,  1.0641, -0.3243,\n",
       "          -2.0459,  0.3505,  0.0168, -0.3507, -0.5106, -0.8754, -0.7109,  0.5989,\n",
       "          -0.2826,  0.3313,  0.2145,  0.3442,  0.2810,  0.5176,  1.1731,  0.6768,\n",
       "           0.8489,  1.4144,  1.0918, -0.2040,  0.4708, -0.1399,  1.2636,  0.3234,\n",
       "           0.2956,  0.9326,  0.6248,  1.1539, -0.4413,  0.4497, -0.8191,  1.3688,\n",
       "          -0.7277, -0.5603, -0.9036,  0.2818,  1.8524, -0.9867, -0.8489,  1.7058,\n",
       "           0.3454, -0.3601,  1.5414,  0.1662,  1.1144, -0.4811,  0.2499,  0.3074,\n",
       "           0.0748,  0.0715,  1.3412,  0.4524,  0.3840,  0.5594, -0.4291, -1.1068,\n",
       "          -0.3835, -0.9931],\n",
       "         [ 0.6220,  0.8186, -0.3651, -0.4747, -0.7094,  0.3565,  0.2444, -1.2631,\n",
       "           0.0780, -0.8108,  0.2679,  0.9685, -1.2370, -1.7218,  0.9463, -1.6122,\n",
       "          -0.7979,  0.8063, -1.0250,  0.3014,  0.7946, -0.7180, -0.8011, -0.2797,\n",
       "           0.1061, -0.4796, -0.3509,  0.6213,  1.0473,  1.2639,  0.5522, -0.2171,\n",
       "          -0.5282, -0.5646,  0.4781, -0.6505, -0.2271, -0.2695,  0.2009, -0.4175,\n",
       "          -0.9038, -0.4623,  0.3635,  0.2359, -1.0616,  0.5996, -0.8289, -2.4601,\n",
       "           0.8511,  0.3971, -1.0669, -0.2848,  0.3691, -3.8444,  0.2023, -0.6185,\n",
       "          -0.4057, -1.9681,  0.0796, -0.4958,  0.6331, -0.5300, -1.3144,  0.4614,\n",
       "          -0.3106, -1.1108,  0.0306,  1.1593, -0.8136, -0.6667,  0.3613, -0.0098,\n",
       "           0.9032, -0.9708, -0.6324, -1.1600,  0.4180, -0.7854,  0.6436, -0.2552,\n",
       "          -1.9948, -1.1649, -0.1201,  0.5692, -0.6048,  0.4694, -0.5063, -0.4610,\n",
       "          -0.8079, -0.1265, -2.2872, -0.4778, -0.1056, -0.1407, -0.3496, -0.9389,\n",
       "          -0.2536,  0.2836, -0.4810,  0.1372, -0.6039, -0.7195,  0.5912,  0.0838,\n",
       "          -0.0414, -0.5736,  0.9726,  1.2486,  0.2591,  0.1414,  0.2427, -0.8715,\n",
       "           0.0891, -0.1858,  0.6066, -0.7608, -0.7495,  0.6863,  0.1112, -0.8947,\n",
       "           1.1179,  0.8774,  0.6017, -1.6227, -0.2673,  0.1299,  1.1204,  1.0817,\n",
       "          -0.5412,  0.4035,  1.4838,  0.9275,  0.7271,  0.7373,  1.4882, -0.4844,\n",
       "           2.8841,  1.1391,  0.5204,  0.7731, -1.0895,  0.7487,  0.8878,  0.2869,\n",
       "          -0.9411,  0.3909,  0.0802,  0.3649,  0.1454,  0.6275,  0.2469,  0.4544,\n",
       "           0.9708, -1.4874,  0.2501, -0.5074,  0.7768, -0.4402, -0.5912,  0.4884,\n",
       "           0.5596, -0.2055,  0.6267, -0.1239, -0.4943,  0.4292, -0.1189,  0.5915,\n",
       "           0.5557, -0.3901, -1.3097,  0.5297, -0.5758, -0.6315, -0.3587, -1.2909,\n",
       "          -1.2039,  1.5056,  3.6104, -1.6251,  2.0971, -0.7861, -1.1831,  0.6138,\n",
       "           0.1955,  0.6165,  0.7590,  0.8750, -0.3384,  0.0749, -0.1276, -0.9628,\n",
       "          -3.1055, -1.0387]]),\n",
       " 'time': tensor([45, 50, 55], dtype=torch.int32)}"
      ]
     },
     "execution_count": 4,
     "metadata": {},
     "output_type": "execute_result"
    }
   ],
   "source": [
    "train[2]"
   ]
  },
  {
   "cell_type": "markdown",
   "metadata": {},
   "source": [
    "## Training the network"
   ]
  },
  {
   "cell_type": "code",
   "execution_count": 5,
   "metadata": {
    "scrolled": false
   },
   "outputs": [
    {
     "name": "stdout",
     "output_type": "stream",
     "text": [
      "epoch =  0  train loss = 0.733   test loss = 0.718   output_std = 0.296\n",
      "epoch =  2  train loss = 0.698   test loss = 0.708   output_std = 0.332\n",
      "epoch =  4  train loss = 0.694   test loss = 0.704   output_std = 0.355\n",
      "epoch =  6  train loss = 0.691   test loss = 0.702   output_std = 0.366\n",
      "epoch =  8  train loss = 0.690   test loss = 0.700   output_std = 0.370\n",
      "epoch = 10  train loss = 0.689   test loss = 0.700   output_std = 0.377\n",
      "epoch = 12  train loss = 0.681   test loss = 0.686   output_std = 0.412\n",
      "epoch = 14  train loss = 0.681   test loss = 0.685   output_std = 0.421\n",
      "epoch = 16  train loss = 0.680   test loss = 0.685   output_std = 0.424\n",
      "epoch = 18  train loss = 0.680   test loss = 0.684   output_std = 0.427\n",
      "epoch = 20  train loss = 0.680   test loss = 0.684   output_std = 0.427\n",
      "epoch = 22  train loss = 0.679   test loss = 0.684   output_std = 0.427\n",
      "epoch = 24  train loss = 0.679   test loss = 0.684   output_std = 0.428\n",
      "epoch = 26  train loss = 0.679   test loss = 0.684   output_std = 0.429\n",
      "epoch = 28  train loss = 0.679   test loss = 0.683   output_std = 0.429\n"
     ]
    }
   ],
   "source": [
    "net.train_network(train, test,batch_size=batch_size, \n",
    "                  num_epochs=30,\n",
    "                  optimizer_fun=optimizer_fun,\n",
    "                  scheduler_fun=scheduler_fun,\n",
    "                  criterion=criterion)"
   ]
  },
  {
   "cell_type": "markdown",
   "metadata": {},
   "source": [
    "## Evaluate the network on a test dataset "
   ]
  },
  {
   "cell_type": "code",
   "execution_count": 6,
   "metadata": {},
   "outputs": [
    {
     "data": {
      "text/plain": [
       "1.340066909790039"
      ]
     },
     "execution_count": 6,
     "metadata": {},
     "output_type": "execute_result"
    }
   ],
   "source": [
    "net.get_MAE_score(timestep=1)"
   ]
  },
  {
   "cell_type": "markdown",
   "metadata": {},
   "source": [
    "### Example of modelled data vs real data for one road segment "
   ]
  },
  {
   "cell_type": "code",
   "execution_count": 7,
   "metadata": {
    "scrolled": false
   },
   "outputs": [
    {
     "ename": "OSError",
     "evalue": "[Errno 22] Invalid argument",
     "output_type": "error",
     "traceback": [
      "\u001b[1;31m---------------------------------------------------------------------------\u001b[0m",
      "\u001b[1;31mOSError\u001b[0m                                   Traceback (most recent call last)",
      "\u001b[1;32m<ipython-input-7-7e52f5c9f68b>\u001b[0m in \u001b[0;36m<module>\u001b[1;34m()\u001b[0m\n\u001b[0;32m      1\u001b[0m \u001b[0mget_ipython\u001b[0m\u001b[1;33m(\u001b[0m\u001b[1;33m)\u001b[0m\u001b[1;33m.\u001b[0m\u001b[0mrun_line_magic\u001b[0m\u001b[1;33m(\u001b[0m\u001b[1;34m'matplotlib'\u001b[0m\u001b[1;33m,\u001b[0m \u001b[1;34m'notebook'\u001b[0m\u001b[1;33m)\u001b[0m\u001b[1;33m\u001b[0m\u001b[0m\n\u001b[0;32m      2\u001b[0m \u001b[1;33m\u001b[0m\u001b[0m\n\u001b[1;32m----> 3\u001b[1;33m \u001b[0mnet\u001b[0m\u001b[1;33m.\u001b[0m\u001b[0mvisualize_road\u001b[0m\u001b[1;33m(\u001b[0m\u001b[0mtimesteps\u001b[0m\u001b[1;33m=\u001b[0m\u001b[1;36m1\u001b[0m\u001b[1;33m,\u001b[0m \u001b[0mroad\u001b[0m\u001b[1;33m=\u001b[0m\u001b[1;36m23\u001b[0m\u001b[1;33m)\u001b[0m\u001b[1;33m\u001b[0m\u001b[0m\n\u001b[0m",
      "\u001b[1;32m~\\OneDrive - Danmarks Tekniske Universitet\\Courses\\02456, Deep Learning\\Project\\busmodders\\model\\BaseNetwork.py\u001b[0m in \u001b[0;36mvisualize_road\u001b[1;34m(self, timesteps, road)\u001b[0m\n\u001b[0;32m    155\u001b[0m         \u001b[1;31m#time is in seconds, so create a function that can convert it into datetimes again\u001b[0m\u001b[1;33m\u001b[0m\u001b[1;33m\u001b[0m\u001b[0m\n\u001b[0;32m    156\u001b[0m         \u001b[0mseconds_to_datetime\u001b[0m \u001b[1;33m=\u001b[0m \u001b[0mnp\u001b[0m\u001b[1;33m.\u001b[0m\u001b[0mvectorize\u001b[0m\u001b[1;33m(\u001b[0m\u001b[0mdatetime\u001b[0m\u001b[1;33m.\u001b[0m\u001b[0mfromtimestamp\u001b[0m\u001b[1;33m)\u001b[0m\u001b[1;33m\u001b[0m\u001b[0m\n\u001b[1;32m--> 157\u001b[1;33m         \u001b[0mtime\u001b[0m \u001b[1;33m=\u001b[0m \u001b[0mseconds_to_datetime\u001b[0m\u001b[1;33m(\u001b[0m\u001b[0mtime\u001b[0m\u001b[1;33m)\u001b[0m\u001b[1;33m\u001b[0m\u001b[0m\n\u001b[0m\u001b[0;32m    158\u001b[0m \u001b[1;33m\u001b[0m\u001b[0m\n\u001b[0;32m    159\u001b[0m         \u001b[0mplt\u001b[0m\u001b[1;33m.\u001b[0m\u001b[0mplot\u001b[0m\u001b[1;33m(\u001b[0m\u001b[0mtime\u001b[0m\u001b[1;33m[\u001b[0m\u001b[1;33m:\u001b[0m\u001b[1;33m,\u001b[0m\u001b[0mtimesteps\u001b[0m\u001b[1;33m-\u001b[0m\u001b[1;36m1\u001b[0m\u001b[1;33m]\u001b[0m\u001b[1;33m,\u001b[0m\u001b[0moutput\u001b[0m\u001b[1;33m[\u001b[0m\u001b[1;33m:\u001b[0m\u001b[1;33m,\u001b[0m\u001b[0mtimesteps\u001b[0m\u001b[1;33m-\u001b[0m\u001b[1;36m1\u001b[0m\u001b[1;33m,\u001b[0m\u001b[0mroad\u001b[0m\u001b[1;33m]\u001b[0m\u001b[1;33m.\u001b[0m\u001b[0mdetach\u001b[0m\u001b[1;33m(\u001b[0m\u001b[1;33m)\u001b[0m\u001b[1;33m.\u001b[0m\u001b[0mnumpy\u001b[0m\u001b[1;33m(\u001b[0m\u001b[1;33m)\u001b[0m\u001b[1;33m,\u001b[0m \u001b[0mlabel\u001b[0m\u001b[1;33m=\u001b[0m\u001b[1;34m'Prediction'\u001b[0m\u001b[1;33m)\u001b[0m\u001b[1;33m\u001b[0m\u001b[0m\n",
      "\u001b[1;32m~\\AppData\\Local\\Continuum\\anaconda3\\lib\\site-packages\\numpy\\lib\\function_base.py\u001b[0m in \u001b[0;36m__call__\u001b[1;34m(self, *args, **kwargs)\u001b[0m\n\u001b[0;32m   2753\u001b[0m             \u001b[0mvargs\u001b[0m\u001b[1;33m.\u001b[0m\u001b[0mextend\u001b[0m\u001b[1;33m(\u001b[0m\u001b[1;33m[\u001b[0m\u001b[0mkwargs\u001b[0m\u001b[1;33m[\u001b[0m\u001b[0m_n\u001b[0m\u001b[1;33m]\u001b[0m \u001b[1;32mfor\u001b[0m \u001b[0m_n\u001b[0m \u001b[1;32min\u001b[0m \u001b[0mnames\u001b[0m\u001b[1;33m]\u001b[0m\u001b[1;33m)\u001b[0m\u001b[1;33m\u001b[0m\u001b[0m\n\u001b[0;32m   2754\u001b[0m \u001b[1;33m\u001b[0m\u001b[0m\n\u001b[1;32m-> 2755\u001b[1;33m         \u001b[1;32mreturn\u001b[0m \u001b[0mself\u001b[0m\u001b[1;33m.\u001b[0m\u001b[0m_vectorize_call\u001b[0m\u001b[1;33m(\u001b[0m\u001b[0mfunc\u001b[0m\u001b[1;33m=\u001b[0m\u001b[0mfunc\u001b[0m\u001b[1;33m,\u001b[0m \u001b[0margs\u001b[0m\u001b[1;33m=\u001b[0m\u001b[0mvargs\u001b[0m\u001b[1;33m)\u001b[0m\u001b[1;33m\u001b[0m\u001b[0m\n\u001b[0m\u001b[0;32m   2756\u001b[0m \u001b[1;33m\u001b[0m\u001b[0m\n\u001b[0;32m   2757\u001b[0m     \u001b[1;32mdef\u001b[0m \u001b[0m_get_ufunc_and_otypes\u001b[0m\u001b[1;33m(\u001b[0m\u001b[0mself\u001b[0m\u001b[1;33m,\u001b[0m \u001b[0mfunc\u001b[0m\u001b[1;33m,\u001b[0m \u001b[0margs\u001b[0m\u001b[1;33m)\u001b[0m\u001b[1;33m:\u001b[0m\u001b[1;33m\u001b[0m\u001b[0m\n",
      "\u001b[1;32m~\\AppData\\Local\\Continuum\\anaconda3\\lib\\site-packages\\numpy\\lib\\function_base.py\u001b[0m in \u001b[0;36m_vectorize_call\u001b[1;34m(self, func, args)\u001b[0m\n\u001b[0;32m   2823\u001b[0m             \u001b[0mres\u001b[0m \u001b[1;33m=\u001b[0m \u001b[0mfunc\u001b[0m\u001b[1;33m(\u001b[0m\u001b[1;33m)\u001b[0m\u001b[1;33m\u001b[0m\u001b[0m\n\u001b[0;32m   2824\u001b[0m         \u001b[1;32melse\u001b[0m\u001b[1;33m:\u001b[0m\u001b[1;33m\u001b[0m\u001b[0m\n\u001b[1;32m-> 2825\u001b[1;33m             \u001b[0mufunc\u001b[0m\u001b[1;33m,\u001b[0m \u001b[0motypes\u001b[0m \u001b[1;33m=\u001b[0m \u001b[0mself\u001b[0m\u001b[1;33m.\u001b[0m\u001b[0m_get_ufunc_and_otypes\u001b[0m\u001b[1;33m(\u001b[0m\u001b[0mfunc\u001b[0m\u001b[1;33m=\u001b[0m\u001b[0mfunc\u001b[0m\u001b[1;33m,\u001b[0m \u001b[0margs\u001b[0m\u001b[1;33m=\u001b[0m\u001b[0margs\u001b[0m\u001b[1;33m)\u001b[0m\u001b[1;33m\u001b[0m\u001b[0m\n\u001b[0m\u001b[0;32m   2826\u001b[0m \u001b[1;33m\u001b[0m\u001b[0m\n\u001b[0;32m   2827\u001b[0m             \u001b[1;31m# Convert args to object arrays first\u001b[0m\u001b[1;33m\u001b[0m\u001b[1;33m\u001b[0m\u001b[0m\n",
      "\u001b[1;32m~\\AppData\\Local\\Continuum\\anaconda3\\lib\\site-packages\\numpy\\lib\\function_base.py\u001b[0m in \u001b[0;36m_get_ufunc_and_otypes\u001b[1;34m(self, func, args)\u001b[0m\n\u001b[0;32m   2783\u001b[0m \u001b[1;33m\u001b[0m\u001b[0m\n\u001b[0;32m   2784\u001b[0m             \u001b[0minputs\u001b[0m \u001b[1;33m=\u001b[0m \u001b[1;33m[\u001b[0m\u001b[0marg\u001b[0m\u001b[1;33m.\u001b[0m\u001b[0mflat\u001b[0m\u001b[1;33m[\u001b[0m\u001b[1;36m0\u001b[0m\u001b[1;33m]\u001b[0m \u001b[1;32mfor\u001b[0m \u001b[0marg\u001b[0m \u001b[1;32min\u001b[0m \u001b[0margs\u001b[0m\u001b[1;33m]\u001b[0m\u001b[1;33m\u001b[0m\u001b[0m\n\u001b[1;32m-> 2785\u001b[1;33m             \u001b[0moutputs\u001b[0m \u001b[1;33m=\u001b[0m \u001b[0mfunc\u001b[0m\u001b[1;33m(\u001b[0m\u001b[1;33m*\u001b[0m\u001b[0minputs\u001b[0m\u001b[1;33m)\u001b[0m\u001b[1;33m\u001b[0m\u001b[0m\n\u001b[0m\u001b[0;32m   2786\u001b[0m \u001b[1;33m\u001b[0m\u001b[0m\n\u001b[0;32m   2787\u001b[0m             \u001b[1;31m# Performance note: profiling indicates that -- for simple\u001b[0m\u001b[1;33m\u001b[0m\u001b[1;33m\u001b[0m\u001b[0m\n",
      "\u001b[1;31mOSError\u001b[0m: [Errno 22] Invalid argument"
     ]
    }
   ],
   "source": [
    "%matplotlib notebook\n",
    "\n",
    "net.visualize_road(timesteps=1, road=23)"
   ]
  },
  {
   "cell_type": "code",
   "execution_count": 16,
   "metadata": {},
   "outputs": [
    {
     "ename": "AttributeError",
     "evalue": "'numpy.ndarray' object has no attribute 'TotalSeconds'",
     "output_type": "error",
     "traceback": [
      "\u001b[1;31m---------------------------------------------------------------------------\u001b[0m",
      "\u001b[1;31mAttributeError\u001b[0m                            Traceback (most recent call last)",
      "\u001b[1;32m<ipython-input-16-3d8eefc313e7>\u001b[0m in \u001b[0;36m<module>\u001b[1;34m()\u001b[0m\n\u001b[1;32m----> 1\u001b[1;33m \u001b[0mtrain\u001b[0m\u001b[1;33m.\u001b[0m\u001b[0mdataframes\u001b[0m\u001b[1;33m[\u001b[0m\u001b[1;36m0\u001b[0m\u001b[1;33m]\u001b[0m\u001b[1;33m.\u001b[0m\u001b[0mindex\u001b[0m\u001b[1;33m[\u001b[0m\u001b[1;36m0\u001b[0m\u001b[1;33m:\u001b[0m\u001b[1;36m10\u001b[0m\u001b[1;33m]\u001b[0m\u001b[1;33m.\u001b[0m\u001b[0mvalues\u001b[0m\u001b[1;33m.\u001b[0m\u001b[0mTotalSeconds\u001b[0m\u001b[1;33m(\u001b[0m\u001b[1;33m)\u001b[0m\u001b[1;33m\u001b[0m\u001b[0m\n\u001b[0m",
      "\u001b[1;31mAttributeError\u001b[0m: 'numpy.ndarray' object has no attribute 'TotalSeconds'"
     ]
    }
   ],
   "source": [
    "train.dataframes[0].index[0:10].values.TotalSeconds()"
   ]
  },
  {
   "cell_type": "code",
   "execution_count": 25,
   "metadata": {},
   "outputs": [
    {
     "data": {
      "text/plain": [
       "array([1538373600000000000, 1538373900000000000, 1538374200000000000,\n",
       "       1538374500000000000, 1538374800000000000, 1538375100000000000,\n",
       "       1538375400000000000, 1538375700000000000, 1538376000000000000,\n",
       "       1538376300000000000], dtype=object)"
      ]
     },
     "execution_count": 25,
     "metadata": {},
     "output_type": "execute_result"
    }
   ],
   "source": [
    "import datetime\n",
    "train.dataframes[0].index[0:10].values.astype(datetime.datetime)"
   ]
  },
  {
   "cell_type": "code",
   "execution_count": 19,
   "metadata": {},
   "outputs": [
    {
     "data": {
      "text/plain": [
       "array(['2018-10-01T06:00:00.000000000', '2018-10-01T06:05:00.000000000',\n",
       "       '2018-10-01T06:10:00.000000000', '2018-10-01T06:15:00.000000000',\n",
       "       '2018-10-01T06:20:00.000000000', '2018-10-01T06:25:00.000000000',\n",
       "       '2018-10-01T06:30:00.000000000', '2018-10-01T06:35:00.000000000',\n",
       "       '2018-10-01T06:40:00.000000000', '2018-10-01T06:45:00.000000000'],\n",
       "      dtype='datetime64[ns]')"
      ]
     },
     "execution_count": 19,
     "metadata": {},
     "output_type": "execute_result"
    }
   ],
   "source": [
    "train.dataframes[0].index[0:10].values"
   ]
  },
  {
   "cell_type": "code",
   "execution_count": null,
   "metadata": {},
   "outputs": [],
   "source": []
  }
 ],
 "metadata": {
  "kernelspec": {
   "display_name": "Python 3",
   "language": "python",
   "name": "python3"
  },
  "language_info": {
   "codemirror_mode": {
    "name": "ipython",
    "version": 3
   },
   "file_extension": ".py",
   "mimetype": "text/x-python",
   "name": "python",
   "nbconvert_exporter": "python",
   "pygments_lexer": "ipython3",
   "version": "3.6.5"
  }
 },
 "nbformat": 4,
 "nbformat_minor": 2
}
