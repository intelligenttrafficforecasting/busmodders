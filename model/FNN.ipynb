{
 "cells": [
  {
   "cell_type": "markdown",
   "metadata": {},
   "source": [
    "# Make a simple FeedForward network for the bus data\n",
    "\n",
    "## Initialization"
   ]
  },
  {
   "cell_type": "code",
   "execution_count": 1,
   "metadata": {},
   "outputs": [],
   "source": [
    "import sys\n",
    "sys.path.append('../misc')\n",
    "\n",
    "from MoviaBusDataset import MoviaBusDataset\n",
    "from BaseNetwork import BaseNetwork\n",
    "import torch\n",
    "from torch.nn import Linear, Sequential, ReLU, L1Loss\n",
    "from torch.optim import Adam, lr_scheduler\n",
    "import numpy as np"
   ]
  },
  {
   "cell_type": "markdown",
   "metadata": {},
   "source": [
    "## Import data using the MoviaBusDataset"
   ]
  },
  {
   "cell_type": "code",
   "execution_count": 2,
   "metadata": {},
   "outputs": [
    {
     "name": "stderr",
     "output_type": "stream",
     "text": [
      "../misc\\MoviaBusDataset.py:117: FutureWarning: Sorting because non-concatenation axis is not aligned. A future version\n",
      "of pandas will change to not sort by default.\n",
      "\n",
      "To accept the future behavior, pass 'sort=False'.\n",
      "\n",
      "To retain the current behavior and silence the warning, pass 'sort=True'.\n",
      "\n",
      "  df = pd.concat((dataframe.drop('TimeOfDay', axis=1) for dataframe in self.dataframes))\n"
     ]
    }
   ],
   "source": [
    "previous_timesteps = 6\n",
    "prediction_steps = 3\n",
    "batch_size = 25\n",
    "num_epochs = 100\n",
    "\n",
    "train = MoviaBusDataset('../data/train', interpolation=True, prev_timesteps=previous_timesteps, max_future_time_steps=prediction_steps, timeofday = True)\n",
    "test = MoviaBusDataset('../data/test', interpolation=True, prev_timesteps=previous_timesteps, max_future_time_steps=prediction_steps, timeofday = True)\n",
    "\n",
    "train.normalize()\n",
    "test.normalize(train.mean, train.std)"
   ]
  },
  {
   "cell_type": "markdown",
   "metadata": {},
   "source": [
    "## The Model"
   ]
  },
  {
   "cell_type": "code",
   "execution_count": 3,
   "metadata": {},
   "outputs": [],
   "source": [
    "class FNN(BaseNetwork):\n",
    "    def __init__(self, num_hidden):\n",
    "        super().__init__()\n",
    "        \n",
    "\n",
    "        self.FNN = Sequential(\n",
    "            Linear(previous_timesteps+1, num_hidden),\n",
    "            ReLU(),\n",
    "            Linear(num_hidden, num_hidden),\n",
    "            ReLU(),\n",
    "            Linear(num_hidden, 1),\n",
    "        )\n",
    "\n",
    "    def forward(self,x):\n",
    "        \"\"\"\n",
    "        x : [batch_size, prev_timesteps, num_roads]\n",
    "        \n",
    "        \"\"\"\n",
    "        #Transpose input, such that the previous time steps are the last dimension\n",
    "        x = x.transpose(2,1)\n",
    "\n",
    "        predictions = []\n",
    "        for _ in range(self.max_timestep):\n",
    "            #Run the input through the network\n",
    "            prediction = self.FNN(x).squeeze()\n",
    "\n",
    "            #Append the prediction to the list of predictions. \n",
    "            #If the data includes timeofday, this shouldn't be included\n",
    "            predictions.append(prediction[:,:self.num_roads])\n",
    "\n",
    "            #remove oldest timestep\n",
    "            x = x[:,:,1:]\n",
    "            #unsqueeze output so its size is [batch_size, num_roads, timesteps]\n",
    "            prediction = prediction.unsqueeze(2)\n",
    "\n",
    "            #append the new prediction to the input\n",
    "            x = torch.cat((x,prediction),dim=2)\n",
    "\n",
    "\n",
    "        return torch.stack(predictions,1)\n",
    "\n",
    "net = FNN(num_hidden=100)\n",
    "\n",
    "optimizer_fun = lambda param : Adam(param, lr=1e-2, weight_decay=1e-4)\n",
    "scheduler_fun = lambda optim : lr_scheduler.StepLR(optim, step_size=10, gamma=0.1)\n",
    "criterion = L1Loss()"
   ]
  },
  {
   "cell_type": "code",
   "execution_count": 4,
   "metadata": {},
   "outputs": [
    {
     "data": {
      "text/plain": [
       "{'data': tensor([[ 0.6723, -0.1816,  0.3230,  ...,  0.7296, -0.5585,  0.2803],\n",
       "         [-1.4166, -0.4299,  1.5753,  ...,  0.6366,  1.4346,  0.2841],\n",
       "         [-0.2761,  0.8878, -0.7089,  ...,  0.3768,  0.5518,  0.2879],\n",
       "         ...,\n",
       "         [-0.9434,  0.8483,  0.4280,  ..., -0.7739,  1.5855,  0.2955],\n",
       "         [ 0.5828,  1.1569, -0.3593,  ..., -0.4041, -0.0994,  0.2992],\n",
       "         [ 0.6052,  0.9525, -0.2314,  ..., -0.0342, -1.7842,  0.3030]]),\n",
       " 'target': tensor([[ 0.8600,  0.5668, -0.6363, -0.3945, -0.6439, -0.0745,  0.4580,  0.0083,\n",
       "          -0.7075, -4.9371,  0.4238, -0.7538,  0.1196, -1.3977,  0.1408,  0.4247,\n",
       "           0.0908,  0.3790, -0.2577, -0.1980,  0.5854, -1.4076,  0.1407, -0.9605,\n",
       "          -0.0942, -0.4990,  0.0088,  0.7225,  0.4802,  0.4723,  0.2451,  0.8413,\n",
       "           2.2939,  1.8249, -0.3864,  1.8959,  2.2265,  0.7014,  2.1136,  0.9435,\n",
       "          -1.3905,  0.8391, -0.7296,  1.8560, -0.6583,  0.2330, -0.6163, -0.2604,\n",
       "           0.6972, -0.7223, -0.6802, -0.6448, -0.3613, -0.0947,  0.0819, -0.4917,\n",
       "          -0.2812,  0.2625,  0.0767,  0.4737,  0.3735,  0.2337,  0.4209, -0.1870,\n",
       "           1.0541,  0.2839,  0.4549,  0.0075, -0.6677,  0.3318,  0.5519,  0.1431,\n",
       "          -0.1796, -0.5201,  0.4777,  1.3876,  0.9473, -1.1402,  0.9871,  0.9969,\n",
       "           0.0685,  0.0333,  0.0029,  0.7136,  1.3509,  0.9225,  0.9271, -0.0430,\n",
       "          -1.0418,  0.7409,  0.4510,  0.2678,  0.6173, -0.8328,  0.1398,  0.6105,\n",
       "          -1.4308,  1.5996,  0.7210,  0.3221, -3.7846, -0.9624,  0.0471,  2.6971,\n",
       "          -0.0047,  0.8450,  0.8419,  0.8477,  2.4767, -1.0543, -0.5825,  0.4583,\n",
       "           0.4055,  0.8898, -1.2611,  0.4795,  1.9773,  0.2428,  0.0723, -0.2678,\n",
       "          -2.1267,  0.5317,  2.5947, -0.9120,  0.2402,  1.0736,  1.2947,  0.8847,\n",
       "           3.2568, -1.0060, -0.8551, -0.6930,  0.6678,  0.7728,  0.4834, -0.2610,\n",
       "          -1.5454, -0.4252,  0.4434,  0.1545, -0.9041,  0.0060, -0.1935,  0.2966,\n",
       "           0.2324,  0.3816,  0.6889,  0.7562, -0.0232,  0.0342, -0.6207, -0.6867,\n",
       "           0.8111,  0.4284,  1.2089,  0.5554, -1.6354,  0.8851, -0.1575,  0.1469,\n",
       "           0.8110,  2.2099,  0.5751,  1.7978,  0.3378,  0.3990,  0.0448,  1.0494,\n",
       "           0.3064, -0.5602, -0.7076,  1.0432,  1.2902, -0.2671, -0.4565,  1.1848,\n",
       "           0.2545, -2.8291, -0.4890,  0.2917,  0.5171, -0.5942,  0.0542,  0.0520,\n",
       "          -0.1850, -0.7476,  0.8193, -0.1792,  0.0609,  1.0469, -0.0312, -1.0079,\n",
       "          -0.1112,  1.1268],\n",
       "         [ 0.7803,  0.7072, -0.6006, -0.4476,  0.8001,  1.7234, -0.1577, -0.5786,\n",
       "          -1.0505, -2.9646,  0.6515, -0.2931, -0.6307, -1.7935, -0.0981, -0.6751,\n",
       "          -0.1022, -0.0930, -0.5650, -0.7082,  0.7292, -2.0628, -0.1243, -1.1779,\n",
       "          -0.0278, -0.3682, -0.3083,  0.0201,  0.7600,  0.8533, -0.7237, -0.3799,\n",
       "           0.3466, -0.9952,  0.7146, -1.4286, -0.8511, -0.8877,  0.7110,  1.1306,\n",
       "          -1.2164,  0.7262,  1.6890,  1.7337,  0.8339,  0.7219,  0.7511, -1.4441,\n",
       "           1.0309, -0.2710, -1.1295,  0.0194, -0.9848, -0.4481, -1.3073, -0.3970,\n",
       "           0.2976,  0.6063,  0.7923, -0.0026,  0.4498, -0.2113,  0.5360,  0.3523,\n",
       "           0.5534,  0.6020,  0.1784,  0.3716,  0.6593, -0.1240,  0.3603,  0.5064,\n",
       "           1.2015,  0.6742, -0.0276,  0.8055,  0.6803, -1.0247,  0.9430,  0.3865,\n",
       "          -0.7961,  0.3869,  0.4490,  0.6206, -1.0025,  0.6927,  0.1117, -0.1546,\n",
       "           1.0263, -0.1991, -2.6080, -0.1596,  0.3683, -0.7166,  0.5088, -0.0092,\n",
       "          -0.9624,  1.2862, -0.2564,  0.2893, -2.4047, -0.9058,  0.9555, -0.8445,\n",
       "           0.0427, -0.5153,  1.0744,  1.0774,  0.4944, -0.4900, -0.1815, -0.4275,\n",
       "           0.3359,  0.4954,  0.0052,  1.2512,  0.6400,  0.5673,  0.8395, -0.3233,\n",
       "          -1.7034,  0.8696,  0.8552, -0.1881, -0.2124,  0.2967,  1.2241,  1.0647,\n",
       "           1.6410,  0.5215, -1.0525, -0.7794, -1.3554,  0.3362,  0.9509, -0.4418,\n",
       "          -2.3923,  0.2735,  0.5184, -0.4034, -0.4643, -0.5597, -0.6164,  0.9242,\n",
       "          -0.4312,  0.4430,  0.6059,  1.1927,  0.4245,  0.3409,  1.0437,  0.5790,\n",
       "           0.7115,  1.6695,  1.1812,  0.2594,  0.2473, -0.5231,  1.5203,  0.4928,\n",
       "           0.5849,  1.5388,  0.5773,  1.3228,  0.2284,  0.3757, -0.3341,  1.4164,\n",
       "          -0.4854, -0.4103, -1.1668,  0.3379,  1.8914, -0.9580, -1.0049,  1.7088,\n",
       "           0.4485, -0.7465,  1.1008,  0.4480,  1.2601, -0.5938,  0.2246,  0.3969,\n",
       "           0.1273, -0.1430,  1.0953,  0.1966,  0.2249,  0.5785, -0.4896, -1.1490,\n",
       "          -0.1882, -1.2273],\n",
       "         [ 0.7006,  0.8475, -0.3335, -0.5008, -0.9977,  0.4402, -0.1120, -1.1655,\n",
       "          -0.0946, -0.9922,  0.3176,  1.3122, -1.3809, -2.1894,  1.1621, -1.7749,\n",
       "          -0.8975,  0.9383, -0.8723,  0.2491,  0.8730, -0.4605, -0.3893, -0.0822,\n",
       "           0.0385, -0.2915, -0.6254,  0.6776,  1.0397,  1.2343,  0.4266,  0.0123,\n",
       "          -0.3310, -1.2055,  0.6788, -1.2784, -0.2008, -0.4821,  0.4962, -0.2152,\n",
       "          -1.1862,  0.6134,  0.4034,  0.8943, -0.2552,  1.2108, -1.3131, -2.6279,\n",
       "           0.6916,  0.1803, -1.5789, -0.5008,  0.3575, -3.5139,  0.2000, -0.5644,\n",
       "          -0.5266, -2.5404,  0.1097, -0.4789,  0.2388, -0.6564, -0.8156,  0.3551,\n",
       "           0.0528, -1.7308, -0.0980,  0.7356, -1.1737, -0.5798,  0.1686, -0.1075,\n",
       "           1.0480, -1.3784, -0.5329, -0.0302,  0.4134, -0.9092,  0.8990, -0.2239,\n",
       "          -1.6608, -1.6351, -0.2219,  0.5275, -1.1270,  0.4628, -0.7038, -0.6550,\n",
       "          -1.0813, -0.2775, -2.6234, -0.5870,  0.1192, -0.4882,  0.2373, -0.6288,\n",
       "          -0.4589,  0.9727, -0.2339,  0.2565, -1.0248, -0.6164,  0.7718, -0.0241,\n",
       "           0.0901, -0.2512,  1.1276,  1.3072,  0.7170,  0.0744,  0.2195, -1.3133,\n",
       "           0.2662,  0.0984,  0.2353, -0.8203, -0.6973,  0.8918, -0.0512, -0.9810,\n",
       "           0.7672,  0.9668,  0.7405, -1.9236, -0.2878, -0.2713,  1.1535,  1.2448,\n",
       "          -0.4879,  0.6665,  1.4457,  0.2998,  0.5609,  0.8584,  1.4185, -0.6040,\n",
       "           2.8377,  1.1601,  1.1166,  0.7095, -1.0783,  0.8749,  0.9311,  0.5540,\n",
       "          -1.0948,  0.5045,  0.5228,  1.2057,  0.2919,  0.4874,  0.0220,  0.2839,\n",
       "           0.8542, -2.2251,  0.1883, -0.0366,  0.6188, -0.8359, -0.2105,  0.6563,\n",
       "           0.7733,  0.5370,  0.5795, -0.0012,  0.1860,  0.3523,  0.2433,  0.6780,\n",
       "           0.7345, -0.2604, -1.6259,  0.6130, -0.7412, -0.6241, -0.4910, -1.3937,\n",
       "          -1.2964,  1.3457,  2.6906, -1.3153,  2.0031, -0.8917, -1.3377,  0.7419,\n",
       "           0.2549,  0.4617,  0.4498,  0.5723, -0.5752,  0.1101, -0.1664, -1.0036,\n",
       "          -2.7579, -1.2733]]),\n",
       " 'time': tensor([45, 50, 55], dtype=torch.int32)}"
      ]
     },
     "execution_count": 4,
     "metadata": {},
     "output_type": "execute_result"
    }
   ],
   "source": [
    "train[2]"
   ]
  },
  {
   "cell_type": "markdown",
   "metadata": {},
   "source": [
    "## Training the network"
   ]
  },
  {
   "cell_type": "code",
   "execution_count": 5,
   "metadata": {
    "scrolled": false
   },
   "outputs": [
    {
     "ename": "RuntimeError",
     "evalue": "invalid argument 0: Sizes of tensors must match except in dimension 0. Got 3 and 2 in dimension 1 at c:\\programdata\\miniconda3\\conda-bld\\pytorch-cpu_1532498166916\\work\\aten\\src\\th\\generic/THTensorMath.cpp:3616",
     "output_type": "error",
     "traceback": [
      "\u001b[1;31m---------------------------------------------------------------------------\u001b[0m",
      "\u001b[1;31mRuntimeError\u001b[0m                              Traceback (most recent call last)",
      "\u001b[1;32m<ipython-input-5-67569f81ae68>\u001b[0m in \u001b[0;36m<module>\u001b[1;34m()\u001b[0m\n\u001b[0;32m      3\u001b[0m                   \u001b[0moptimizer_fun\u001b[0m\u001b[1;33m=\u001b[0m\u001b[0moptimizer_fun\u001b[0m\u001b[1;33m,\u001b[0m\u001b[1;33m\u001b[0m\u001b[0m\n\u001b[0;32m      4\u001b[0m                   \u001b[0mscheduler_fun\u001b[0m\u001b[1;33m=\u001b[0m\u001b[0mscheduler_fun\u001b[0m\u001b[1;33m,\u001b[0m\u001b[1;33m\u001b[0m\u001b[0m\n\u001b[1;32m----> 5\u001b[1;33m                   criterion=criterion)\n\u001b[0m",
      "\u001b[1;32m~\\OneDrive - Danmarks Tekniske Universitet\\Courses\\02456, Deep Learning\\Project\\busmodders\\model\\BaseNetwork.py\u001b[0m in \u001b[0;36mtrain_network\u001b[1;34m(self, train, test, batch_size, num_epochs, optimizer_fun, scheduler_fun, criterion)\u001b[0m\n\u001b[0;32m     69\u001b[0m             \u001b[0mtest_loss\u001b[0m \u001b[1;33m=\u001b[0m \u001b[1;33m[\u001b[0m\u001b[1;33m]\u001b[0m\u001b[1;33m\u001b[0m\u001b[0m\n\u001b[0;32m     70\u001b[0m             \u001b[1;31m#Train on the training dataset\u001b[0m\u001b[1;33m\u001b[0m\u001b[1;33m\u001b[0m\u001b[0m\n\u001b[1;32m---> 71\u001b[1;33m             \u001b[1;32mfor\u001b[0m \u001b[0m_\u001b[0m \u001b[1;33m,\u001b[0m \u001b[0mbatch_train\u001b[0m \u001b[1;32min\u001b[0m \u001b[0menumerate\u001b[0m\u001b[1;33m(\u001b[0m\u001b[0mtrain_dataloader\u001b[0m\u001b[1;33m)\u001b[0m\u001b[1;33m:\u001b[0m\u001b[1;33m\u001b[0m\u001b[0m\n\u001b[0m\u001b[0;32m     72\u001b[0m                 \u001b[1;31m#Get the predictions and targets\u001b[0m\u001b[1;33m\u001b[0m\u001b[1;33m\u001b[0m\u001b[0m\n\u001b[0;32m     73\u001b[0m                 \u001b[0moutput\u001b[0m \u001b[1;33m=\u001b[0m \u001b[0mself\u001b[0m\u001b[1;33m(\u001b[0m\u001b[0mbatch_train\u001b[0m\u001b[1;33m[\u001b[0m\u001b[1;34m'data'\u001b[0m\u001b[1;33m]\u001b[0m\u001b[1;33m)\u001b[0m\u001b[1;33m\u001b[0m\u001b[0m\n",
      "\u001b[1;32m~\\AppData\\Local\\Continuum\\anaconda3\\lib\\site-packages\\torch\\utils\\data\\dataloader.py\u001b[0m in \u001b[0;36m__next__\u001b[1;34m(self)\u001b[0m\n\u001b[0;32m    312\u001b[0m         \u001b[1;32mif\u001b[0m \u001b[0mself\u001b[0m\u001b[1;33m.\u001b[0m\u001b[0mnum_workers\u001b[0m \u001b[1;33m==\u001b[0m \u001b[1;36m0\u001b[0m\u001b[1;33m:\u001b[0m  \u001b[1;31m# same-process loading\u001b[0m\u001b[1;33m\u001b[0m\u001b[0m\n\u001b[0;32m    313\u001b[0m             \u001b[0mindices\u001b[0m \u001b[1;33m=\u001b[0m \u001b[0mnext\u001b[0m\u001b[1;33m(\u001b[0m\u001b[0mself\u001b[0m\u001b[1;33m.\u001b[0m\u001b[0msample_iter\u001b[0m\u001b[1;33m)\u001b[0m  \u001b[1;31m# may raise StopIteration\u001b[0m\u001b[1;33m\u001b[0m\u001b[0m\n\u001b[1;32m--> 314\u001b[1;33m             \u001b[0mbatch\u001b[0m \u001b[1;33m=\u001b[0m \u001b[0mself\u001b[0m\u001b[1;33m.\u001b[0m\u001b[0mcollate_fn\u001b[0m\u001b[1;33m(\u001b[0m\u001b[1;33m[\u001b[0m\u001b[0mself\u001b[0m\u001b[1;33m.\u001b[0m\u001b[0mdataset\u001b[0m\u001b[1;33m[\u001b[0m\u001b[0mi\u001b[0m\u001b[1;33m]\u001b[0m \u001b[1;32mfor\u001b[0m \u001b[0mi\u001b[0m \u001b[1;32min\u001b[0m \u001b[0mindices\u001b[0m\u001b[1;33m]\u001b[0m\u001b[1;33m)\u001b[0m\u001b[1;33m\u001b[0m\u001b[0m\n\u001b[0m\u001b[0;32m    315\u001b[0m             \u001b[1;32mif\u001b[0m \u001b[0mself\u001b[0m\u001b[1;33m.\u001b[0m\u001b[0mpin_memory\u001b[0m\u001b[1;33m:\u001b[0m\u001b[1;33m\u001b[0m\u001b[0m\n\u001b[0;32m    316\u001b[0m                 \u001b[0mbatch\u001b[0m \u001b[1;33m=\u001b[0m \u001b[0mpin_memory_batch\u001b[0m\u001b[1;33m(\u001b[0m\u001b[0mbatch\u001b[0m\u001b[1;33m)\u001b[0m\u001b[1;33m\u001b[0m\u001b[0m\n",
      "\u001b[1;32m~\\AppData\\Local\\Continuum\\anaconda3\\lib\\site-packages\\torch\\utils\\data\\dataloader.py\u001b[0m in \u001b[0;36mdefault_collate\u001b[1;34m(batch)\u001b[0m\n\u001b[0;32m    182\u001b[0m         \u001b[1;32mreturn\u001b[0m \u001b[0mbatch\u001b[0m\u001b[1;33m\u001b[0m\u001b[0m\n\u001b[0;32m    183\u001b[0m     \u001b[1;32melif\u001b[0m \u001b[0misinstance\u001b[0m\u001b[1;33m(\u001b[0m\u001b[0mbatch\u001b[0m\u001b[1;33m[\u001b[0m\u001b[1;36m0\u001b[0m\u001b[1;33m]\u001b[0m\u001b[1;33m,\u001b[0m \u001b[0mcollections\u001b[0m\u001b[1;33m.\u001b[0m\u001b[0mMapping\u001b[0m\u001b[1;33m)\u001b[0m\u001b[1;33m:\u001b[0m\u001b[1;33m\u001b[0m\u001b[0m\n\u001b[1;32m--> 184\u001b[1;33m         \u001b[1;32mreturn\u001b[0m \u001b[1;33m{\u001b[0m\u001b[0mkey\u001b[0m\u001b[1;33m:\u001b[0m \u001b[0mdefault_collate\u001b[0m\u001b[1;33m(\u001b[0m\u001b[1;33m[\u001b[0m\u001b[0md\u001b[0m\u001b[1;33m[\u001b[0m\u001b[0mkey\u001b[0m\u001b[1;33m]\u001b[0m \u001b[1;32mfor\u001b[0m \u001b[0md\u001b[0m \u001b[1;32min\u001b[0m \u001b[0mbatch\u001b[0m\u001b[1;33m]\u001b[0m\u001b[1;33m)\u001b[0m \u001b[1;32mfor\u001b[0m \u001b[0mkey\u001b[0m \u001b[1;32min\u001b[0m \u001b[0mbatch\u001b[0m\u001b[1;33m[\u001b[0m\u001b[1;36m0\u001b[0m\u001b[1;33m]\u001b[0m\u001b[1;33m}\u001b[0m\u001b[1;33m\u001b[0m\u001b[0m\n\u001b[0m\u001b[0;32m    185\u001b[0m     \u001b[1;32melif\u001b[0m \u001b[0misinstance\u001b[0m\u001b[1;33m(\u001b[0m\u001b[0mbatch\u001b[0m\u001b[1;33m[\u001b[0m\u001b[1;36m0\u001b[0m\u001b[1;33m]\u001b[0m\u001b[1;33m,\u001b[0m \u001b[0mcollections\u001b[0m\u001b[1;33m.\u001b[0m\u001b[0mSequence\u001b[0m\u001b[1;33m)\u001b[0m\u001b[1;33m:\u001b[0m\u001b[1;33m\u001b[0m\u001b[0m\n\u001b[0;32m    186\u001b[0m         \u001b[0mtransposed\u001b[0m \u001b[1;33m=\u001b[0m \u001b[0mzip\u001b[0m\u001b[1;33m(\u001b[0m\u001b[1;33m*\u001b[0m\u001b[0mbatch\u001b[0m\u001b[1;33m)\u001b[0m\u001b[1;33m\u001b[0m\u001b[0m\n",
      "\u001b[1;32m~\\AppData\\Local\\Continuum\\anaconda3\\lib\\site-packages\\torch\\utils\\data\\dataloader.py\u001b[0m in \u001b[0;36m<dictcomp>\u001b[1;34m(.0)\u001b[0m\n\u001b[0;32m    182\u001b[0m         \u001b[1;32mreturn\u001b[0m \u001b[0mbatch\u001b[0m\u001b[1;33m\u001b[0m\u001b[0m\n\u001b[0;32m    183\u001b[0m     \u001b[1;32melif\u001b[0m \u001b[0misinstance\u001b[0m\u001b[1;33m(\u001b[0m\u001b[0mbatch\u001b[0m\u001b[1;33m[\u001b[0m\u001b[1;36m0\u001b[0m\u001b[1;33m]\u001b[0m\u001b[1;33m,\u001b[0m \u001b[0mcollections\u001b[0m\u001b[1;33m.\u001b[0m\u001b[0mMapping\u001b[0m\u001b[1;33m)\u001b[0m\u001b[1;33m:\u001b[0m\u001b[1;33m\u001b[0m\u001b[0m\n\u001b[1;32m--> 184\u001b[1;33m         \u001b[1;32mreturn\u001b[0m \u001b[1;33m{\u001b[0m\u001b[0mkey\u001b[0m\u001b[1;33m:\u001b[0m \u001b[0mdefault_collate\u001b[0m\u001b[1;33m(\u001b[0m\u001b[1;33m[\u001b[0m\u001b[0md\u001b[0m\u001b[1;33m[\u001b[0m\u001b[0mkey\u001b[0m\u001b[1;33m]\u001b[0m \u001b[1;32mfor\u001b[0m \u001b[0md\u001b[0m \u001b[1;32min\u001b[0m \u001b[0mbatch\u001b[0m\u001b[1;33m]\u001b[0m\u001b[1;33m)\u001b[0m \u001b[1;32mfor\u001b[0m \u001b[0mkey\u001b[0m \u001b[1;32min\u001b[0m \u001b[0mbatch\u001b[0m\u001b[1;33m[\u001b[0m\u001b[1;36m0\u001b[0m\u001b[1;33m]\u001b[0m\u001b[1;33m}\u001b[0m\u001b[1;33m\u001b[0m\u001b[0m\n\u001b[0m\u001b[0;32m    185\u001b[0m     \u001b[1;32melif\u001b[0m \u001b[0misinstance\u001b[0m\u001b[1;33m(\u001b[0m\u001b[0mbatch\u001b[0m\u001b[1;33m[\u001b[0m\u001b[1;36m0\u001b[0m\u001b[1;33m]\u001b[0m\u001b[1;33m,\u001b[0m \u001b[0mcollections\u001b[0m\u001b[1;33m.\u001b[0m\u001b[0mSequence\u001b[0m\u001b[1;33m)\u001b[0m\u001b[1;33m:\u001b[0m\u001b[1;33m\u001b[0m\u001b[0m\n\u001b[0;32m    186\u001b[0m         \u001b[0mtransposed\u001b[0m \u001b[1;33m=\u001b[0m \u001b[0mzip\u001b[0m\u001b[1;33m(\u001b[0m\u001b[1;33m*\u001b[0m\u001b[0mbatch\u001b[0m\u001b[1;33m)\u001b[0m\u001b[1;33m\u001b[0m\u001b[0m\n",
      "\u001b[1;32m~\\AppData\\Local\\Continuum\\anaconda3\\lib\\site-packages\\torch\\utils\\data\\dataloader.py\u001b[0m in \u001b[0;36mdefault_collate\u001b[1;34m(batch)\u001b[0m\n\u001b[0;32m    162\u001b[0m             \u001b[0mstorage\u001b[0m \u001b[1;33m=\u001b[0m \u001b[0mbatch\u001b[0m\u001b[1;33m[\u001b[0m\u001b[1;36m0\u001b[0m\u001b[1;33m]\u001b[0m\u001b[1;33m.\u001b[0m\u001b[0mstorage\u001b[0m\u001b[1;33m(\u001b[0m\u001b[1;33m)\u001b[0m\u001b[1;33m.\u001b[0m\u001b[0m_new_shared\u001b[0m\u001b[1;33m(\u001b[0m\u001b[0mnumel\u001b[0m\u001b[1;33m)\u001b[0m\u001b[1;33m\u001b[0m\u001b[0m\n\u001b[0;32m    163\u001b[0m             \u001b[0mout\u001b[0m \u001b[1;33m=\u001b[0m \u001b[0mbatch\u001b[0m\u001b[1;33m[\u001b[0m\u001b[1;36m0\u001b[0m\u001b[1;33m]\u001b[0m\u001b[1;33m.\u001b[0m\u001b[0mnew\u001b[0m\u001b[1;33m(\u001b[0m\u001b[0mstorage\u001b[0m\u001b[1;33m)\u001b[0m\u001b[1;33m\u001b[0m\u001b[0m\n\u001b[1;32m--> 164\u001b[1;33m         \u001b[1;32mreturn\u001b[0m \u001b[0mtorch\u001b[0m\u001b[1;33m.\u001b[0m\u001b[0mstack\u001b[0m\u001b[1;33m(\u001b[0m\u001b[0mbatch\u001b[0m\u001b[1;33m,\u001b[0m \u001b[1;36m0\u001b[0m\u001b[1;33m,\u001b[0m \u001b[0mout\u001b[0m\u001b[1;33m=\u001b[0m\u001b[0mout\u001b[0m\u001b[1;33m)\u001b[0m\u001b[1;33m\u001b[0m\u001b[0m\n\u001b[0m\u001b[0;32m    165\u001b[0m     \u001b[1;32melif\u001b[0m \u001b[0melem_type\u001b[0m\u001b[1;33m.\u001b[0m\u001b[0m__module__\u001b[0m \u001b[1;33m==\u001b[0m \u001b[1;34m'numpy'\u001b[0m \u001b[1;32mand\u001b[0m \u001b[0melem_type\u001b[0m\u001b[1;33m.\u001b[0m\u001b[0m__name__\u001b[0m \u001b[1;33m!=\u001b[0m \u001b[1;34m'str_'\u001b[0m\u001b[0;31m \u001b[0m\u001b[0;31m\\\u001b[0m\u001b[1;33m\u001b[0m\u001b[0m\n\u001b[0;32m    166\u001b[0m             \u001b[1;32mand\u001b[0m \u001b[0melem_type\u001b[0m\u001b[1;33m.\u001b[0m\u001b[0m__name__\u001b[0m \u001b[1;33m!=\u001b[0m \u001b[1;34m'string_'\u001b[0m\u001b[1;33m:\u001b[0m\u001b[1;33m\u001b[0m\u001b[0m\n",
      "\u001b[1;31mRuntimeError\u001b[0m: invalid argument 0: Sizes of tensors must match except in dimension 0. Got 3 and 2 in dimension 1 at c:\\programdata\\miniconda3\\conda-bld\\pytorch-cpu_1532498166916\\work\\aten\\src\\th\\generic/THTensorMath.cpp:3616"
     ]
    }
   ],
   "source": [
    "net.train_network(train, test,batch_size=batch_size, \n",
    "                  num_epochs=30,\n",
    "                  optimizer_fun=optimizer_fun,\n",
    "                  scheduler_fun=scheduler_fun,\n",
    "                  criterion=criterion)"
   ]
  },
  {
   "cell_type": "markdown",
   "metadata": {},
   "source": [
    "## Evaluate the network on a test dataset "
   ]
  },
  {
   "cell_type": "code",
   "execution_count": null,
   "metadata": {},
   "outputs": [],
   "source": [
    "net.get_MAE_score(timestep=1)"
   ]
  },
  {
   "cell_type": "markdown",
   "metadata": {},
   "source": [
    "### Example of modelled data vs real data for one road segment "
   ]
  },
  {
   "cell_type": "code",
   "execution_count": null,
   "metadata": {
    "scrolled": false
   },
   "outputs": [],
   "source": [
    "%matplotlib notebook\n",
    "\n",
    "net.visualize_road(timesteps=1, road=23)"
   ]
  },
  {
   "cell_type": "code",
   "execution_count": null,
   "metadata": {},
   "outputs": [],
   "source": [
    "train.dataframes[0].index[0:10].values.TotalSeconds()"
   ]
  },
  {
   "cell_type": "code",
   "execution_count": null,
   "metadata": {},
   "outputs": [],
   "source": [
    "import datetime\n",
    "train.dataframes[0].index[0:10].values.astype(datetime.datetime)"
   ]
  },
  {
   "cell_type": "code",
   "execution_count": null,
   "metadata": {},
   "outputs": [],
   "source": [
    "train.dataframes[0].index[0:10].values"
   ]
  },
  {
   "cell_type": "code",
   "execution_count": null,
   "metadata": {},
   "outputs": [],
   "source": []
  }
 ],
 "metadata": {
  "kernelspec": {
   "display_name": "Python 3",
   "language": "python",
   "name": "python3"
  },
  "language_info": {
   "codemirror_mode": {
    "name": "ipython",
    "version": 3
   },
   "file_extension": ".py",
   "mimetype": "text/x-python",
   "name": "python",
   "nbconvert_exporter": "python",
   "pygments_lexer": "ipython3",
   "version": "3.6.5"
  }
 },
 "nbformat": 4,
 "nbformat_minor": 2
}
