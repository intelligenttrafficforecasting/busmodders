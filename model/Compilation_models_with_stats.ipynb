{
 "cells": [
  {
   "cell_type": "markdown",
   "metadata": {},
   "source": [
    "## Importing things "
   ]
  },
  {
   "cell_type": "code",
   "execution_count": 1,
   "metadata": {},
   "outputs": [],
   "source": [
    "import sys\n",
    "sys.path.append('../misc')\n",
    "\n",
    "from MoviaBusDataset import MoviaBusDataset\n",
    "from BaseNetwork import BaseNetwork\n",
    "import numpy as np\n",
    "from FNN import FNN\n",
    "from Seq2Seq import Seq2Seq\n",
    "\n",
    "%load_ext autoreload\n",
    "%autoreload 2\n"
   ]
  },
  {
   "cell_type": "markdown",
   "metadata": {},
   "source": [
    "## Load Data"
   ]
  },
  {
   "cell_type": "code",
   "execution_count": 2,
   "metadata": {},
   "outputs": [],
   "source": [
    "previous_timesteps = 6\n",
    "prediction_steps = 6\n",
    "batch_size = 25\n",
    "\n",
    "train = MoviaBusDataset('../data/train', interpolation=True, \n",
    "                        prev_timesteps=previous_timesteps, \n",
    "                        max_future_time_steps=prediction_steps, \n",
    "                        timeofday = True)\n",
    "train2 = MoviaBusDataset('../data/train', interpolation=True, \n",
    "                        prev_timesteps=previous_timesteps, \n",
    "                        max_future_time_steps=prediction_steps, \n",
    "                        )\n",
    "\n",
    "validation = MoviaBusDataset('../data/validation', interpolation=True, \n",
    "                       prev_timesteps=previous_timesteps, \n",
    "                       max_future_time_steps=prediction_steps, \n",
    "                       timeofday = True)\n",
    "validation2 = MoviaBusDataset('../data/validation', interpolation=True, \n",
    "                       prev_timesteps=previous_timesteps, \n",
    "                       max_future_time_steps=prediction_steps)\n",
    "\n",
    "\n",
    "test = MoviaBusDataset('../data/test', interpolation=True, \n",
    "                       prev_timesteps=previous_timesteps, \n",
    "                       max_future_time_steps=prediction_steps, \n",
    "                       timeofday = True)\n",
    "test2 = MoviaBusDataset('../data/test', interpolation=True, \n",
    "                       prev_timesteps=previous_timesteps, \n",
    "                       max_future_time_steps=prediction_steps)\n",
    "\n",
    "train.remove_trend()\n",
    "validation.remove_trend(train._historical_average)\n",
    "test.remove_trend(train._historical_average)\n",
    "\n",
    "train2.remove_trend()\n",
    "validation2.remove_trend(train2._historical_average)\n",
    "test2.remove_trend(train2._historical_average)\n",
    "\n",
    "train2.normalize(individual_roads=False)\n",
    "validation2.normalize(train2.mean, train2.std)\n",
    "test2.normalize(train2.mean, train2.std)"
   ]
  },
  {
   "cell_type": "markdown",
   "metadata": {},
   "source": [
    "## FNN"
   ]
  },
  {
   "cell_type": "code",
   "execution_count": 3,
   "metadata": {},
   "outputs": [
    {
     "ename": "RuntimeError",
     "evalue": "Error(s) in loading state_dict for FNN:\n\tsize mismatch for FNN.0.weight: copying a param of torch.Size([20, 7]) from checkpoint, where the shape is torch.Size([20, 2]) in current model.",
     "output_type": "error",
     "traceback": [
      "\u001b[1;31m---------------------------------------------------------------------------\u001b[0m",
      "\u001b[1;31mRuntimeError\u001b[0m                              Traceback (most recent call last)",
      "\u001b[1;32m<ipython-input-3-2a688ec72985>\u001b[0m in \u001b[0;36m<module>\u001b[1;34m()\u001b[0m\n\u001b[0;32m      1\u001b[0m \u001b[0mnet_FNN\u001b[0m \u001b[1;33m=\u001b[0m \u001b[0mFNN\u001b[0m\u001b[1;33m(\u001b[0m\u001b[0mnum_hidden\u001b[0m\u001b[1;33m=\u001b[0m\u001b[1;36m20\u001b[0m\u001b[1;33m)\u001b[0m\u001b[1;33m\u001b[0m\u001b[0m\n\u001b[1;32m----> 2\u001b[1;33m \u001b[0mnet_FNN\u001b[0m\u001b[1;33m.\u001b[0m\u001b[0mload\u001b[0m\u001b[1;33m(\u001b[0m\u001b[1;34m'FNN.pt'\u001b[0m\u001b[1;33m)\u001b[0m\u001b[1;33m\u001b[0m\u001b[0m\n\u001b[0m\u001b[0;32m      3\u001b[0m \u001b[1;33m\u001b[0m\u001b[0m\n\u001b[0;32m      4\u001b[0m \u001b[0mvalidation_scores\u001b[0m\u001b[1;33m=\u001b[0m\u001b[1;33m[\u001b[0m\u001b[0mnet_FNN\u001b[0m\u001b[1;33m.\u001b[0m\u001b[0mget_MAE_score\u001b[0m\u001b[1;33m(\u001b[0m\u001b[0mvalidation\u001b[0m\u001b[1;33m,\u001b[0m\u001b[0mtimestep\u001b[0m\u001b[1;33m=\u001b[0m\u001b[0mi\u001b[0m\u001b[1;33m)\u001b[0m \u001b[1;32mfor\u001b[0m \u001b[0mi\u001b[0m \u001b[1;32min\u001b[0m \u001b[0mrange\u001b[0m\u001b[1;33m(\u001b[0m\u001b[1;36m1\u001b[0m\u001b[1;33m,\u001b[0m\u001b[0mprediction_steps\u001b[0m\u001b[1;33m+\u001b[0m\u001b[1;36m1\u001b[0m\u001b[1;33m)\u001b[0m\u001b[1;33m]\u001b[0m\u001b[1;33m\u001b[0m\u001b[0m\n\u001b[0;32m      5\u001b[0m \u001b[0mprint\u001b[0m\u001b[1;33m(\u001b[0m\u001b[1;34m'Validation score:\\n'\u001b[0m\u001b[1;33m,\u001b[0m\u001b[0mvalidation_scores\u001b[0m\u001b[1;33m)\u001b[0m\u001b[1;33m\u001b[0m\u001b[0m\n",
      "\u001b[1;32m~\\OneDrive - Danmarks Tekniske Universitet\\Courses\\02456, Deep Learning\\Project\\busmodders\\model\\BaseNetwork.py\u001b[0m in \u001b[0;36mload\u001b[1;34m(self, file_path)\u001b[0m\n\u001b[0;32m    278\u001b[0m \u001b[1;33m\u001b[0m\u001b[0m\n\u001b[0;32m    279\u001b[0m         \u001b[1;32mif\u001b[0m \u001b[0mexists\u001b[0m\u001b[1;33m(\u001b[0m\u001b[0mfile_path\u001b[0m\u001b[1;33m)\u001b[0m\u001b[1;33m:\u001b[0m\u001b[1;33m\u001b[0m\u001b[0m\n\u001b[1;32m--> 280\u001b[1;33m             \u001b[0mself\u001b[0m\u001b[1;33m.\u001b[0m\u001b[0mload_state_dict\u001b[0m\u001b[1;33m(\u001b[0m\u001b[0mtorch\u001b[0m\u001b[1;33m.\u001b[0m\u001b[0mload\u001b[0m\u001b[1;33m(\u001b[0m\u001b[0mfile_path\u001b[0m\u001b[1;33m)\u001b[0m\u001b[1;33m)\u001b[0m\u001b[1;33m\u001b[0m\u001b[0m\n\u001b[0m\u001b[0;32m    281\u001b[0m         \u001b[1;32melse\u001b[0m\u001b[1;33m:\u001b[0m\u001b[1;33m\u001b[0m\u001b[0m\n\u001b[0;32m    282\u001b[0m             \u001b[1;32mraise\u001b[0m \u001b[0mFileNotFoundError\u001b[0m\u001b[1;33m(\u001b[0m\u001b[1;34m\"Couldn't load model since file {} doesn't exists\"\u001b[0m\u001b[1;33m.\u001b[0m\u001b[0mformat\u001b[0m\u001b[1;33m(\u001b[0m\u001b[0mfile_path\u001b[0m\u001b[1;33m)\u001b[0m\u001b[1;33m)\u001b[0m\u001b[1;33m\u001b[0m\u001b[0m\n",
      "\u001b[1;32m~\\AppData\\Local\\Continuum\\anaconda3\\lib\\site-packages\\torch\\nn\\modules\\module.py\u001b[0m in \u001b[0;36mload_state_dict\u001b[1;34m(self, state_dict, strict)\u001b[0m\n\u001b[0;32m    717\u001b[0m         \u001b[1;32mif\u001b[0m \u001b[0mlen\u001b[0m\u001b[1;33m(\u001b[0m\u001b[0merror_msgs\u001b[0m\u001b[1;33m)\u001b[0m \u001b[1;33m>\u001b[0m \u001b[1;36m0\u001b[0m\u001b[1;33m:\u001b[0m\u001b[1;33m\u001b[0m\u001b[0m\n\u001b[0;32m    718\u001b[0m             raise RuntimeError('Error(s) in loading state_dict for {}:\\n\\t{}'.format(\n\u001b[1;32m--> 719\u001b[1;33m                                self.__class__.__name__, \"\\n\\t\".join(error_msgs)))\n\u001b[0m\u001b[0;32m    720\u001b[0m \u001b[1;33m\u001b[0m\u001b[0m\n\u001b[0;32m    721\u001b[0m     \u001b[1;32mdef\u001b[0m \u001b[0mparameters\u001b[0m\u001b[1;33m(\u001b[0m\u001b[0mself\u001b[0m\u001b[1;33m)\u001b[0m\u001b[1;33m:\u001b[0m\u001b[1;33m\u001b[0m\u001b[0m\n",
      "\u001b[1;31mRuntimeError\u001b[0m: Error(s) in loading state_dict for FNN:\n\tsize mismatch for FNN.0.weight: copying a param of torch.Size([20, 7]) from checkpoint, where the shape is torch.Size([20, 2]) in current model."
     ]
    }
   ],
   "source": [
    "net_FNN = FNN(num_hidden=20)\n",
    "net_FNN.load('FNN.pt')\n",
    "\n",
    "validation_scores=[net_FNN.get_MAE_score(validation,timestep=i) for i in range(1,prediction_steps+1)]\n",
    "print('Validation score:\\n',validation_scores)\n",
    "print('\\nMean validation score for all timesteps:\\n',sum(validation_scores)/len(validation_scores))\n",
    "\n",
    "test_scores=[net_FNN.get_MAE_score(test,timestep=i) for i in range(1,prediction_steps+1)]\n",
    "print('\\nTest score:\\n',test_scores)\n",
    "print('\\nMean test score for all timesteps:\\n',sum(test_scores)/len(test_scores))"
   ]
  },
  {
   "cell_type": "code",
   "execution_count": null,
   "metadata": {},
   "outputs": [],
   "source": [
    "net_FNN.visualize_road(test, timesteps=1, road=17)"
   ]
  },
  {
   "cell_type": "markdown",
   "metadata": {},
   "source": [
    "## Seq2Seq"
   ]
  },
  {
   "cell_type": "code",
   "execution_count": null,
   "metadata": {},
   "outputs": [],
   "source": [
    "net_s2s = Seq2Seq()\n",
    "net_s2s._BaseNetwork__target_to_net = True\n",
    "net_s2s.load('Sequence2Sequence.pt')\n",
    "\n",
    "validation_scores=[net_s2s.get_MAE_score(validation2,timestep=i) for i in range(1,prediction_steps+1)]\n",
    "print('Validation score:\\n',validation_scores)\n",
    "print('\\nMean validation score for all timesteps:\\n',sum(validation_scores)/len(validation_scores))\n",
    "\n",
    "test_scores=[net_s2s.get_MAE_score(test2,timestep=i) for i in range(1,prediction_steps+1)]\n",
    "print('\\nTest score:\\n',test_scores)\n",
    "print('\\nMean test score for all timesteps:\\n',sum(test_scores)/len(test_scores))"
   ]
  },
  {
   "cell_type": "code",
   "execution_count": null,
   "metadata": {},
   "outputs": [],
   "source": [
    "time,out_s2s,tar = net_s2s.visualize_road(test2, timesteps=6, road=16)\n",
    "_,out_fnn,_ = net_FNN.visualize_road(test, timesteps=6, road=16)"
   ]
  },
  {
   "cell_type": "code",
   "execution_count": null,
   "metadata": {},
   "outputs": [],
   "source": [
    "import matplotlib.pyplot as plt\n",
    "%matplotlib notebook\n",
    "\n",
    "plt.plot(time,out_s2s, label='Truth_s2s')\n",
    "plt.plot(time,tar, label='Prediction')\n",
    "plt.plot(time,out_fnn, label='Truth_fnn')\n",
    "plt.legend()\n",
    "plt.xlabel('Time of day [MM:DD:HH]')\n",
    "plt.ylabel('Mean speed [m/2]')\n",
    "plt.show()"
   ]
  },
  {
   "cell_type": "markdown",
   "metadata": {},
   "source": [
    "## DCRNN "
   ]
  },
  {
   "cell_type": "code",
   "execution_count": null,
   "metadata": {},
   "outputs": [],
   "source": [
    "import numpy as np\n",
    "out_dcrnn = None\n",
    "with np.load('../dcrnn.npz') as data:\n",
    "    # also contains groundtruth\n",
    "    out_dcrnn = np.abs(data['predictions'] - data['groundtruth'])"
   ]
  },
  {
   "cell_type": "markdown",
   "metadata": {},
   "source": [
    "### Stats"
   ]
  },
  {
   "cell_type": "code",
   "execution_count": null,
   "metadata": {},
   "outputs": [],
   "source": [
    "import pandas as pd\n",
    "import matplotlib.pyplot as plt\n",
    "stats = pd.read_csv('../stats.csv',index_col=['LinkRef'])\n",
    "stats['dcrnn_t1'],stats['dcrnn_t2'],stats['dcrnn_t3'],stats['dcrnn_t4'],stats['dcrnn_t5'],stats['dcrnn_t6'] = out_dcrnn.mean(axis=1)\n",
    "data_norm = (stats.sub(stats.mean(axis=0,numeric_only=True),axis=1))/stats.std(axis=0)\n",
    "#plt.matshow()\n",
    "#data_norm\n",
    "data_norm.corr()\n"
   ]
  },
  {
   "cell_type": "markdown",
   "metadata": {},
   "source": [
    "## Plotting"
   ]
  },
  {
   "cell_type": "code",
   "execution_count": null,
   "metadata": {},
   "outputs": [],
   "source": []
  }
 ],
 "metadata": {
  "kernelspec": {
   "display_name": "Python 3",
   "language": "python",
   "name": "python3"
  },
  "language_info": {
   "codemirror_mode": {
    "name": "ipython",
    "version": 3
   },
   "file_extension": ".py",
   "mimetype": "text/x-python",
   "name": "python",
   "nbconvert_exporter": "python",
   "pygments_lexer": "ipython3",
   "version": "3.6.5"
  }
 },
 "nbformat": 4,
 "nbformat_minor": 2
}
