{
 "cells": [
  {
   "cell_type": "markdown",
   "metadata": {},
   "source": [
    "# Make a simple Convolutional network for the bus data\n",
    "\n",
    "## Initialization"
   ]
  },
  {
   "cell_type": "code",
   "execution_count": 14,
   "metadata": {},
   "outputs": [
    {
     "name": "stdout",
     "output_type": "stream",
     "text": [
      "The autoreload extension is already loaded. To reload it, use:\n",
      "  %reload_ext autoreload\n"
     ]
    }
   ],
   "source": [
    "%load_ext autoreload\n",
    "%autoreload 2\n",
    "import sys\n",
    "sys.path.append('../misc')\n",
    "sys.path.append(\"../\")\n",
    "from MoviaBusDataset import MoviaBusDataset\n",
    "from BaseNetwork import BaseNetwork\n",
    "import torch\n",
    "from torch.nn import Linear, Sequential, ReLU, L1Loss\n",
    "from torch.optim import Adam, lr_scheduler\n",
    "import numpy as np"
   ]
  },
  {
   "cell_type": "markdown",
   "metadata": {},
   "source": [
    "## Import data using the MoviaBusDataset"
   ]
  },
  {
   "cell_type": "code",
   "execution_count": 8,
   "metadata": {},
   "outputs": [],
   "source": [
    "previous_timesteps = 6\n",
    "prediction_steps = 6\n",
    "batch_size = 25\n",
    "num_epochs = 100\n",
    "\n",
    "train = MoviaBusDataset('../data/train', interpolation=True, prev_timesteps=previous_timesteps, max_future_time_steps=prediction_steps, timeofday = False)\n",
    "test = MoviaBusDataset('../data/test', interpolation=True, prev_timesteps=previous_timesteps, max_future_time_steps=prediction_steps, timeofday = False)"
   ]
  },
  {
   "cell_type": "code",
   "execution_count": 9,
   "metadata": {},
   "outputs": [],
   "source": [
    "train.normalize(individual_roads=False)\n",
    "test.normalize(train.mean, train.std,individual_roads=False)"
   ]
  },
  {
   "cell_type": "markdown",
   "metadata": {},
   "source": [
    "## The Model"
   ]
  },
  {
   "cell_type": "code",
   "execution_count": 12,
   "metadata": {},
   "outputs": [],
   "source": [
    "#from IPython.core.debugger import Tracer; Tracer()()\n",
    "#%pdb 0\n",
    "\n",
    "from CNN import CNN, GCN\n",
    "from FNN import FNN\n",
    "cnn = CNN(previous_timesteps)\n",
    "\n",
    "#cnn = GCN(nfeat=previous_timesteps + 1, \n",
    "#          nhid=100, \n",
    "#          nout=1, \n",
    "#          dropout=0.3)\n",
    "\n"
   ]
  },
  {
   "cell_type": "markdown",
   "metadata": {},
   "source": [
    "## Training the network"
   ]
  },
  {
   "cell_type": "code",
   "execution_count": 13,
   "metadata": {
    "scrolled": true
   },
   "outputs": [
    {
     "name": "stdout",
     "output_type": "stream",
     "text": [
      "epoch =  0  train loss = 1.024   test loss = 0.851   output_std = 0.047\n",
      "epoch =  2  train loss = 0.835   test loss = 0.842   output_std = 0.069\n",
      "epoch =  4  train loss = 0.494   test loss = 0.500   output_std = 0.823\n",
      "epoch =  6  train loss = 0.489   test loss = 0.496   output_std = 0.809\n",
      "epoch =  8  train loss = 0.488   test loss = 0.497   output_std = 0.795\n",
      "epoch = 10  train loss = 0.488   test loss = 0.495   output_std = 0.816\n",
      "epoch = 12  train loss = 0.486   test loss = 0.497   output_std = 0.843\n",
      "epoch = 14  train loss = 0.485   test loss = 0.499   output_std = 0.836\n",
      "epoch = 16  train loss = 0.485   test loss = 0.500   output_std = 0.833\n",
      "epoch = 18  train loss = 0.485   test loss = 0.500   output_std = 0.829\n"
     ]
    }
   ],
   "source": [
    "#%pdb 0\n",
    "cnn.train_network(train, test,batch_size=batch_size, \n",
    "                  num_epochs=20,\n",
    "                  optimizer_fun=lambda param : Adam(param, lr=1e-2, weight_decay=1e-4),\n",
    "                  scheduler_fun=lambda optim : lr_scheduler.StepLR(optim, step_size=10, gamma=0.1),\n",
    "                  criterion=L1Loss())"
   ]
  },
  {
   "cell_type": "code",
   "execution_count": null,
   "metadata": {},
   "outputs": [],
   "source": [
    "fnn = FNN(previous_timesteps = previous_timesteps, num_hidden = 100)\n",
    "fnn.train_network(train, test,batch_size=batch_size, \n",
    "                  num_epochs=30,\n",
    "                  optimizer_fun=lambda param : Adam(param, lr=1e-2, weight_decay=1e-4),\n",
    "                  scheduler_fun=lambda optim : lr_scheduler.StepLR(optim, step_size=10, gamma=0.1),\n",
    "                  criterion=L1Loss())\n"
   ]
  },
  {
   "cell_type": "code",
   "execution_count": null,
   "metadata": {},
   "outputs": [],
   "source": [
    "a = torch.Tensor(2,4)\n",
    "print(a.shape)\n",
    "a = a.unsqueeze(1)\n",
    "print(a.shape)"
   ]
  },
  {
   "cell_type": "markdown",
   "metadata": {},
   "source": [
    "## Evaluate the network on a test dataset "
   ]
  },
  {
   "cell_type": "code",
   "execution_count": null,
   "metadata": {},
   "outputs": [],
   "source": [
    "cnn.get_MAE_score(timestep=6)"
   ]
  },
  {
   "cell_type": "markdown",
   "metadata": {},
   "source": [
    "### Example of modelled data vs real data for one road segment "
   ]
  },
  {
   "cell_type": "code",
   "execution_count": null,
   "metadata": {
    "scrolled": false
   },
   "outputs": [],
   "source": [
    "%matplotlib notebook\n",
    "\n",
    "cnn.visualize_road(timesteps=1, road=23)"
   ]
  },
  {
   "cell_type": "code",
   "execution_count": null,
   "metadata": {},
   "outputs": [],
   "source": []
  }
 ],
 "metadata": {
  "kernelspec": {
   "display_name": "Python 3",
   "language": "python",
   "name": "python3"
  },
  "language_info": {
   "codemirror_mode": {
    "name": "ipython",
    "version": 3
   },
   "file_extension": ".py",
   "mimetype": "text/x-python",
   "name": "python",
   "nbconvert_exporter": "python",
   "pygments_lexer": "ipython3",
   "version": "3.6.2"
  }
 },
 "nbformat": 4,
 "nbformat_minor": 2
}
