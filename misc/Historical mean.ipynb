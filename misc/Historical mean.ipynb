{
 "cells": [
  {
   "cell_type": "code",
   "execution_count": 1,
   "metadata": {},
   "outputs": [],
   "source": [
    "import pandas as pd\n",
    "import numpy as np\n",
    "from MoviaBusDataset import MoviaBusDataset"
   ]
  },
  {
   "cell_type": "code",
   "execution_count": 2,
   "metadata": {},
   "outputs": [],
   "source": [
    "train = MoviaBusDataset('../data/train', interpolation=True)\n",
    "test = MoviaBusDataset('../data/test', interpolation=True)\n",
    "train = pd.concat(train.dataframes).drop('TimeOfDay',axis=1).unstack().reset_index().rename(columns={0:\"Speed\"})\n",
    "test = pd.concat(test.dataframes).drop('TimeOfDay',axis=1).unstack().reset_index().rename(columns={0:\"Speed\"})"
   ]
  },
  {
   "cell_type": "code",
   "execution_count": 3,
   "metadata": {
    "scrolled": true
   },
   "outputs": [
    {
     "data": {
      "text/html": [
       "<div>\n",
       "<style scoped>\n",
       "    .dataframe tbody tr th:only-of-type {\n",
       "        vertical-align: middle;\n",
       "    }\n",
       "\n",
       "    .dataframe tbody tr th {\n",
       "        vertical-align: top;\n",
       "    }\n",
       "\n",
       "    .dataframe thead th {\n",
       "        text-align: right;\n",
       "    }\n",
       "</style>\n",
       "<table border=\"1\" class=\"dataframe\">\n",
       "  <thead>\n",
       "    <tr style=\"text-align: right;\">\n",
       "      <th></th>\n",
       "      <th>hour</th>\n",
       "      <th>minute</th>\n",
       "      <th>LinkRef</th>\n",
       "      <th>Speed</th>\n",
       "    </tr>\n",
       "  </thead>\n",
       "  <tbody>\n",
       "    <tr>\n",
       "      <th>0</th>\n",
       "      <td>6</td>\n",
       "      <td>0</td>\n",
       "      <td>103524893:266482296:1195317079</td>\n",
       "      <td>NaN</td>\n",
       "    </tr>\n",
       "    <tr>\n",
       "      <th>1</th>\n",
       "      <td>6</td>\n",
       "      <td>0</td>\n",
       "      <td>103524902:1242123651:1195317083</td>\n",
       "      <td>NaN</td>\n",
       "    </tr>\n",
       "    <tr>\n",
       "      <th>2</th>\n",
       "      <td>6</td>\n",
       "      <td>0</td>\n",
       "      <td>103524902:1242123670:3396253208</td>\n",
       "      <td>NaN</td>\n",
       "    </tr>\n",
       "    <tr>\n",
       "      <th>3</th>\n",
       "      <td>6</td>\n",
       "      <td>0</td>\n",
       "      <td>103524902:3396253208:1242123651</td>\n",
       "      <td>NaN</td>\n",
       "    </tr>\n",
       "    <tr>\n",
       "      <th>4</th>\n",
       "      <td>6</td>\n",
       "      <td>0</td>\n",
       "      <td>108233932:576722:4279694303</td>\n",
       "      <td>NaN</td>\n",
       "    </tr>\n",
       "  </tbody>\n",
       "</table>\n",
       "</div>"
      ],
      "text/plain": [
       "   hour  minute                          LinkRef  Speed\n",
       "0     6       0   103524893:266482296:1195317079    NaN\n",
       "1     6       0  103524902:1242123651:1195317083    NaN\n",
       "2     6       0  103524902:1242123670:3396253208    NaN\n",
       "3     6       0  103524902:3396253208:1242123651    NaN\n",
       "4     6       0      108233932:576722:4279694303    NaN"
      ]
     },
     "execution_count": 3,
     "metadata": {},
     "output_type": "execute_result"
    }
   ],
   "source": [
    "time = pd.DatetimeIndex(train.Time)\n",
    "\n",
    "#calculate the historical average\n",
    "df_ha=train.groupby([time.hour,time.minute,'LinkRef']).mean()\n",
    "#Rename the index\n",
    "df_ha.index=df_ha.index.rename(['hour','minute','LinkRef'])\n",
    "#reset the index\n",
    "df_ha=df_ha.reset_index()\n",
    "df_ha.head() \n"
   ]
  },
  {
   "cell_type": "code",
   "execution_count": 4,
   "metadata": {
    "scrolled": true
   },
   "outputs": [
    {
     "data": {
      "text/html": [
       "<div>\n",
       "<style scoped>\n",
       "    .dataframe tbody tr th:only-of-type {\n",
       "        vertical-align: middle;\n",
       "    }\n",
       "\n",
       "    .dataframe tbody tr th {\n",
       "        vertical-align: top;\n",
       "    }\n",
       "\n",
       "    .dataframe thead th {\n",
       "        text-align: right;\n",
       "    }\n",
       "</style>\n",
       "<table border=\"1\" class=\"dataframe\">\n",
       "  <thead>\n",
       "    <tr style=\"text-align: right;\">\n",
       "      <th></th>\n",
       "      <th>Time</th>\n",
       "      <th>LinkRef</th>\n",
       "      <th>mean_truth</th>\n",
       "      <th>mean_prediction</th>\n",
       "    </tr>\n",
       "  </thead>\n",
       "  <tbody>\n",
       "    <tr>\n",
       "      <th>0</th>\n",
       "      <td>2018-10-04 06:00:00</td>\n",
       "      <td>103524893:266482296:1195317079</td>\n",
       "      <td>NaN</td>\n",
       "      <td>NaN</td>\n",
       "    </tr>\n",
       "    <tr>\n",
       "      <th>1</th>\n",
       "      <td>2018-10-05 06:00:00</td>\n",
       "      <td>103524893:266482296:1195317079</td>\n",
       "      <td>NaN</td>\n",
       "      <td>NaN</td>\n",
       "    </tr>\n",
       "    <tr>\n",
       "      <th>2</th>\n",
       "      <td>2018-10-04 06:05:00</td>\n",
       "      <td>103524893:266482296:1195317079</td>\n",
       "      <td>8.414000</td>\n",
       "      <td>10.676667</td>\n",
       "    </tr>\n",
       "    <tr>\n",
       "      <th>3</th>\n",
       "      <td>2018-10-05 06:05:00</td>\n",
       "      <td>103524893:266482296:1195317079</td>\n",
       "      <td>NaN</td>\n",
       "      <td>10.676667</td>\n",
       "    </tr>\n",
       "    <tr>\n",
       "      <th>4</th>\n",
       "      <td>2018-10-04 06:10:00</td>\n",
       "      <td>103524893:266482296:1195317079</td>\n",
       "      <td>8.225846</td>\n",
       "      <td>11.282816</td>\n",
       "    </tr>\n",
       "  </tbody>\n",
       "</table>\n",
       "</div>"
      ],
      "text/plain": [
       "                 Time                         LinkRef  mean_truth  \\\n",
       "0 2018-10-04 06:00:00  103524893:266482296:1195317079         NaN   \n",
       "1 2018-10-05 06:00:00  103524893:266482296:1195317079         NaN   \n",
       "2 2018-10-04 06:05:00  103524893:266482296:1195317079    8.414000   \n",
       "3 2018-10-05 06:05:00  103524893:266482296:1195317079         NaN   \n",
       "4 2018-10-04 06:10:00  103524893:266482296:1195317079    8.225846   \n",
       "\n",
       "   mean_prediction  \n",
       "0              NaN  \n",
       "1              NaN  \n",
       "2        10.676667  \n",
       "3        10.676667  \n",
       "4        11.282816  "
      ]
     },
     "execution_count": 4,
     "metadata": {},
     "output_type": "execute_result"
    }
   ],
   "source": [
    "#add a hour and minute column to the test dataframe\n",
    "test['hour'] = test.Time.apply(lambda x: x.hour)\n",
    "test['minute'] = test.Time.apply(lambda x: x.minute)\n",
    "\n",
    "#merge the historical mean with the test test\n",
    "test_merged = pd.merge(test, df_ha, on=['hour','minute','LinkRef'])[['Time','LinkRef','Speed_x','Speed_y']]\n",
    "#rename columns\n",
    "test_merged.columns=['Time','LinkRef','mean_truth','mean_prediction']\n",
    "test_merged = test_merged[test_merged['mean_truth']!=0]\n",
    "test_merged.head()"
   ]
  },
  {
   "cell_type": "code",
   "execution_count": 5,
   "metadata": {},
   "outputs": [
    {
     "data": {
      "text/plain": [
       "1.8424587905114789"
      ]
     },
     "execution_count": 5,
     "metadata": {},
     "output_type": "execute_result"
    }
   ],
   "source": [
    "test.Time.apply(lambda x: x.time)"
   ]
  },
  {
   "cell_type": "code",
   "execution_count": 6,
   "metadata": {},
   "outputs": [
    {
     "data": {
      "text/plain": [
       "2.032292638041423"
      ]
     },
     "execution_count": 6,
     "metadata": {},
     "output_type": "execute_result"
    }
   ],
   "source": [
    "MAE = abs(test_merged['mean_truth']-test_merged['mean_prediction']).mean()\n",
    "MAE"
   ]
  },
  {
   "cell_type": "code",
   "execution_count": 6,
   "metadata": {},
   "outputs": [
    {
     "data": {
      "text/plain": [
       "55.385216713850504"
      ]
     },
     "execution_count": 6,
     "metadata": {},
     "output_type": "execute_result"
    }
   ],
   "source": [
    "test_merged2 = test_merged[test_merged['mean_truth']>10]\n",
    "MAPE = abs((test_merged2['mean_truth']-test_merged2['mean_prediction'])/(test_merged2['mean_truth'])).mean()*100\n",
    "MAPE"
   ]
  },
  {
   "cell_type": "code",
   "execution_count": 7,
   "metadata": {},
   "outputs": [
    {
     "data": {
      "text/plain": [
       "2.546347986857115"
      ]
     },
     "execution_count": 7,
     "metadata": {},
     "output_type": "execute_result"
    }
   ],
   "source": [
    "RMSE = np.sqrt(((test_merged['mean_truth']-test_merged['mean_prediction'])**2).mean())\n",
    "RMSE"
   ]
  },
  {
   "cell_type": "code",
   "execution_count": null,
   "metadata": {},
   "outputs": [],
   "source": []
  }
 ],
 "metadata": {
  "kernelspec": {
   "display_name": "Python 3",
   "language": "python",
   "name": "python3"
  },
  "language_info": {
   "codemirror_mode": {
    "name": "ipython",
    "version": 3
   },
   "file_extension": ".py",
   "mimetype": "text/x-python",
   "name": "python",
   "nbconvert_exporter": "python",
   "pygments_lexer": "ipython3",
   "version": "3.6.5"
  }
 },
 "nbformat": 4,
 "nbformat_minor": 2
}
