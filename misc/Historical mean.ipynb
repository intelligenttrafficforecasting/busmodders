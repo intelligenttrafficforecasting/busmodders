{
 "cells": [
  {
   "cell_type": "code",
   "execution_count": 13,
   "metadata": {},
   "outputs": [],
   "source": [
    "import glob\n",
    "import pandas as pd\n",
    "import numpy as np\n",
    "from data_loader import parse_data"
   ]
  },
  {
   "cell_type": "code",
   "execution_count": 14,
   "metadata": {},
   "outputs": [],
   "source": [
    "files_train = glob.glob('../data/train/*/vehicle-position-matched-online.csv')\n",
    "files_test = glob.glob('../data/test/*/vehicle-position-matched-online.csv')\n"
   ]
  },
  {
   "cell_type": "code",
   "execution_count": 15,
   "metadata": {},
   "outputs": [
    {
     "data": {
      "text/html": [
       "<div>\n",
       "<style scoped>\n",
       "    .dataframe tbody tr th:only-of-type {\n",
       "        vertical-align: middle;\n",
       "    }\n",
       "\n",
       "    .dataframe tbody tr th {\n",
       "        vertical-align: top;\n",
       "    }\n",
       "\n",
       "    .dataframe thead th {\n",
       "        text-align: right;\n",
       "    }\n",
       "</style>\n",
       "<table border=\"1\" class=\"dataframe\">\n",
       "  <thead>\n",
       "    <tr style=\"text-align: right;\">\n",
       "      <th></th>\n",
       "      <th>Time</th>\n",
       "      <th>wayId</th>\n",
       "      <th>mean</th>\n",
       "    </tr>\n",
       "  </thead>\n",
       "  <tbody>\n",
       "    <tr>\n",
       "      <th>0</th>\n",
       "      <td>2018-10-03 06:00:00</td>\n",
       "      <td>103524893</td>\n",
       "      <td>13.380000</td>\n",
       "    </tr>\n",
       "    <tr>\n",
       "      <th>1</th>\n",
       "      <td>2018-10-03 06:00:00</td>\n",
       "      <td>103524902</td>\n",
       "      <td>10.129259</td>\n",
       "    </tr>\n",
       "    <tr>\n",
       "      <th>2</th>\n",
       "      <td>2018-10-03 06:00:00</td>\n",
       "      <td>108233932</td>\n",
       "      <td>13.403333</td>\n",
       "    </tr>\n",
       "    <tr>\n",
       "      <th>3</th>\n",
       "      <td>2018-10-03 06:00:00</td>\n",
       "      <td>108233935</td>\n",
       "      <td>2.674286</td>\n",
       "    </tr>\n",
       "    <tr>\n",
       "      <th>4</th>\n",
       "      <td>2018-10-03 06:00:00</td>\n",
       "      <td>108233940</td>\n",
       "      <td>0.965758</td>\n",
       "    </tr>\n",
       "  </tbody>\n",
       "</table>\n",
       "</div>"
      ],
      "text/plain": [
       "                 Time      wayId       mean\n",
       "0 2018-10-03 06:00:00  103524893  13.380000\n",
       "1 2018-10-03 06:00:00  103524902  10.129259\n",
       "2 2018-10-03 06:00:00  108233932  13.403333\n",
       "3 2018-10-03 06:00:00  108233935   2.674286\n",
       "4 2018-10-03 06:00:00  108233940   0.965758"
      ]
     },
     "execution_count": 15,
     "metadata": {},
     "output_type": "execute_result"
    }
   ],
   "source": [
    "train = parse_data(files_train)\n",
    "test = parse_data(files_test)\n",
    "train.head()"
   ]
  },
  {
   "cell_type": "code",
   "execution_count": 16,
   "metadata": {
    "scrolled": true
   },
   "outputs": [
    {
     "data": {
      "text/html": [
       "<div>\n",
       "<style scoped>\n",
       "    .dataframe tbody tr th:only-of-type {\n",
       "        vertical-align: middle;\n",
       "    }\n",
       "\n",
       "    .dataframe tbody tr th {\n",
       "        vertical-align: top;\n",
       "    }\n",
       "\n",
       "    .dataframe thead th {\n",
       "        text-align: right;\n",
       "    }\n",
       "</style>\n",
       "<table border=\"1\" class=\"dataframe\">\n",
       "  <thead>\n",
       "    <tr style=\"text-align: right;\">\n",
       "      <th></th>\n",
       "      <th>hour</th>\n",
       "      <th>minute</th>\n",
       "      <th>wayId</th>\n",
       "      <th>mean</th>\n",
       "    </tr>\n",
       "  </thead>\n",
       "  <tbody>\n",
       "    <tr>\n",
       "      <th>0</th>\n",
       "      <td>6</td>\n",
       "      <td>0</td>\n",
       "      <td>103524893</td>\n",
       "      <td>9.406757</td>\n",
       "    </tr>\n",
       "    <tr>\n",
       "      <th>1</th>\n",
       "      <td>6</td>\n",
       "      <td>0</td>\n",
       "      <td>103524902</td>\n",
       "      <td>8.975976</td>\n",
       "    </tr>\n",
       "    <tr>\n",
       "      <th>2</th>\n",
       "      <td>6</td>\n",
       "      <td>0</td>\n",
       "      <td>108233932</td>\n",
       "      <td>11.870000</td>\n",
       "    </tr>\n",
       "    <tr>\n",
       "      <th>3</th>\n",
       "      <td>6</td>\n",
       "      <td>0</td>\n",
       "      <td>108233935</td>\n",
       "      <td>5.278810</td>\n",
       "    </tr>\n",
       "    <tr>\n",
       "      <th>4</th>\n",
       "      <td>6</td>\n",
       "      <td>0</td>\n",
       "      <td>108233940</td>\n",
       "      <td>5.045379</td>\n",
       "    </tr>\n",
       "  </tbody>\n",
       "</table>\n",
       "</div>"
      ],
      "text/plain": [
       "   hour  minute      wayId       mean\n",
       "0     6       0  103524893   9.406757\n",
       "1     6       0  103524902   8.975976\n",
       "2     6       0  108233932  11.870000\n",
       "3     6       0  108233935   5.278810\n",
       "4     6       0  108233940   5.045379"
      ]
     },
     "execution_count": 16,
     "metadata": {},
     "output_type": "execute_result"
    }
   ],
   "source": [
    "time = pd.DatetimeIndex(train.Time)\n",
    "\n",
    "#calculate the historical average\n",
    "df_ha=train.groupby([time.hour,time.minute,'wayId']).mean()\n",
    "#Rename the index\n",
    "df_ha.index=df_ha.index.rename(['hour','minute','wayId'])\n",
    "#reset the index\n",
    "df_ha=df_ha.reset_index()\n",
    "df_ha.head()\n"
   ]
  },
  {
   "cell_type": "code",
   "execution_count": 17,
   "metadata": {
    "scrolled": true
   },
   "outputs": [
    {
     "data": {
      "text/html": [
       "<div>\n",
       "<style scoped>\n",
       "    .dataframe tbody tr th:only-of-type {\n",
       "        vertical-align: middle;\n",
       "    }\n",
       "\n",
       "    .dataframe tbody tr th {\n",
       "        vertical-align: top;\n",
       "    }\n",
       "\n",
       "    .dataframe thead th {\n",
       "        text-align: right;\n",
       "    }\n",
       "</style>\n",
       "<table border=\"1\" class=\"dataframe\">\n",
       "  <thead>\n",
       "    <tr style=\"text-align: right;\">\n",
       "      <th></th>\n",
       "      <th>Time</th>\n",
       "      <th>wayid</th>\n",
       "      <th>mean_truth</th>\n",
       "      <th>mean_prediction</th>\n",
       "    </tr>\n",
       "  </thead>\n",
       "  <tbody>\n",
       "    <tr>\n",
       "      <th>0</th>\n",
       "      <td>2018-10-03 06:00:00</td>\n",
       "      <td>103524893</td>\n",
       "      <td>13.380000</td>\n",
       "      <td>9.406757</td>\n",
       "    </tr>\n",
       "    <tr>\n",
       "      <th>1</th>\n",
       "      <td>2018-10-03 06:00:00</td>\n",
       "      <td>103524902</td>\n",
       "      <td>10.129259</td>\n",
       "      <td>8.975976</td>\n",
       "    </tr>\n",
       "    <tr>\n",
       "      <th>2</th>\n",
       "      <td>2018-10-03 06:00:00</td>\n",
       "      <td>108233932</td>\n",
       "      <td>13.403333</td>\n",
       "      <td>11.870000</td>\n",
       "    </tr>\n",
       "    <tr>\n",
       "      <th>3</th>\n",
       "      <td>2018-10-03 06:00:00</td>\n",
       "      <td>108233935</td>\n",
       "      <td>2.674286</td>\n",
       "      <td>5.278810</td>\n",
       "    </tr>\n",
       "    <tr>\n",
       "      <th>4</th>\n",
       "      <td>2018-10-03 06:00:00</td>\n",
       "      <td>108233940</td>\n",
       "      <td>0.965758</td>\n",
       "      <td>5.045379</td>\n",
       "    </tr>\n",
       "  </tbody>\n",
       "</table>\n",
       "</div>"
      ],
      "text/plain": [
       "                 Time      wayid  mean_truth  mean_prediction\n",
       "0 2018-10-03 06:00:00  103524893   13.380000         9.406757\n",
       "1 2018-10-03 06:00:00  103524902   10.129259         8.975976\n",
       "2 2018-10-03 06:00:00  108233932   13.403333        11.870000\n",
       "3 2018-10-03 06:00:00  108233935    2.674286         5.278810\n",
       "4 2018-10-03 06:00:00  108233940    0.965758         5.045379"
      ]
     },
     "execution_count": 17,
     "metadata": {},
     "output_type": "execute_result"
    }
   ],
   "source": [
    "#add a hour and minute column to the test dataframe\n",
    "test['hour'] = test.Time.apply(lambda x: x.hour)\n",
    "test['minute'] = test.Time.apply(lambda x: x.minute)\n",
    "\n",
    "#merge the historical mean with the test test\n",
    "test_merged = pd.merge(test, df_ha, on=['hour','minute','wayId'])[['Time','wayId','mean_x','mean_y']]\n",
    "#rename columns\n",
    "test_merged.columns=['Time','wayid','mean_truth','mean_prediction']\n",
    "test_merged.head()"
   ]
  },
  {
   "cell_type": "code",
   "execution_count": 18,
   "metadata": {},
   "outputs": [
    {
     "data": {
      "text/plain": [
       "0.9939977611706159"
      ]
     },
     "execution_count": 18,
     "metadata": {},
     "output_type": "execute_result"
    }
   ],
   "source": [
    "MAE = abs(test_merged['mean_truth']-test_merged['mean_prediction']).mean()\n",
    "MAE"
   ]
  },
  {
   "cell_type": "code",
   "execution_count": 19,
   "metadata": {},
   "outputs": [
    {
     "data": {
      "text/plain": [
       "31.744410948358475"
      ]
     },
     "execution_count": 19,
     "metadata": {},
     "output_type": "execute_result"
    }
   ],
   "source": [
    "test_merged2 = test_merged[test_merged['mean_truth']>0.1]\n",
    "MAPE = abs((test_merged2['mean_truth']-test_merged2['mean_prediction'])/(test_merged2['mean_truth'])).mean()*100\n",
    "MAPE"
   ]
  },
  {
   "cell_type": "code",
   "execution_count": 20,
   "metadata": {},
   "outputs": [
    {
     "data": {
      "text/plain": [
       "1.5143718428825592"
      ]
     },
     "execution_count": 20,
     "metadata": {},
     "output_type": "execute_result"
    }
   ],
   "source": [
    "RMSE = np.sqrt(((test_merged['mean_truth']-test_merged['mean_prediction'])**2).mean())\n",
    "RMSE"
   ]
  }
 ],
 "metadata": {
  "kernelspec": {
   "display_name": "Python 3",
   "language": "python",
   "name": "python3"
  },
  "language_info": {
   "codemirror_mode": {
    "name": "ipython",
    "version": 3
   },
   "file_extension": ".py",
   "mimetype": "text/x-python",
   "name": "python",
   "nbconvert_exporter": "python",
   "pygments_lexer": "ipython3",
   "version": "3.6.6"
  }
 },
 "nbformat": 4,
 "nbformat_minor": 2
}
