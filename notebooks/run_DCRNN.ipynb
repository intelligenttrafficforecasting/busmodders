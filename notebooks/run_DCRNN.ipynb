{
 "cells": [
  {
   "cell_type": "code",
   "execution_count": 1,
   "metadata": {},
   "outputs": [],
   "source": [
    "import sys\n",
    "sys.path.append(\"../\")\n",
    "import pandas as pd\n",
    "from misc.MoviaBusDataset import MoviaBusDataset\n",
    "from misc.data_loader import load_network, adjacency_matrix\n",
    "import pickle\n",
    "import os\n",
    "import yaml"
   ]
  },
  {
   "cell_type": "code",
   "execution_count": 2,
   "metadata": {},
   "outputs": [],
   "source": [
    "#df = pd.read_hdf(\"../DCRNN/data/df_highway_2012_4mon_sample.h5\")\n",
    "base_dir = '../DCRNN/movia'\n",
    "if not os.path.exists(base_dir):\n",
    "    os.makedirs(base_dir)\n",
    "if not os.path.exists(os.path.join(base_dir,'out')):\n",
    "    os.makedirs(os.path.join(base_dir,'out'))\n",
    "if not os.path.exists(os.path.join(base_dir,'data')):\n",
    "    os.makedirs(os.path.join(base_dir,'data'))\n",
    "if not os.path.exists(os.path.join(base_dir,'model')):\n",
    "    os.makedirs(os.path.join(base_dir,'model'))"
   ]
  },
  {
   "cell_type": "code",
   "execution_count": 3,
   "metadata": {},
   "outputs": [],
   "source": [
    "\n",
    "movia_dataset =  MoviaBusDataset('../data/train', interpolation=True)\n",
    "all_data = pd.concat(movia_dataset.dataframes)\n",
    "all_data = all_data.drop(['TimeOfDay'],axis=1)\n",
    "all_data[all_data.columns] = all_data[all_data.columns].astype('float32')\n",
    "data_file = os.path.join(base_dir,'movia.h5')\n",
    "all_data.to_hdf(data_file,key='df',format='table')\n"
   ]
  },
  {
   "cell_type": "code",
   "execution_count": 4,
   "metadata": {},
   "outputs": [],
   "source": [
    "road_network = load_network()\n",
    "adj_mx = adjacency_matrix(road_network)\n",
    "adj_mx = adj_mx.astype('float32')\n",
    "with open(os.path.join(base_dir,'adj_mx.pkl'), 'wb') as f:\n",
    "    pickle.dump([-1, -1, adj_mx], f, protocol=2)"
   ]
  },
  {
   "cell_type": "code",
   "execution_count": null,
   "metadata": {},
   "outputs": [
    {
     "name": "stdout",
     "output_type": "stream",
     "text": [
      "Generating training data\n",
      "x shape:  (170, 12, 194, 2) , y shape:  (170, 12, 194, 2)\n",
      "train x:  (119, 12, 194, 2) y: (119, 12, 194, 2)\n",
      "val x:  (17, 12, 194, 2) y: (17, 12, 194, 2)\n",
      "test x:  (34, 12, 194, 2) y: (34, 12, 194, 2)\n"
     ]
    }
   ],
   "source": [
    "%run ../DCRNN/scripts/generate_training_data.py --output_dir ../DCRNN/movia/data --traffic_df_filename ../DCRNN/movia/movia.h5"
   ]
  },
  {
   "cell_type": "code",
   "execution_count": null,
   "metadata": {},
   "outputs": [],
   "source": [
    "config = {\n",
    "    'base_dir': 'data/model',\n",
    "    'log_level': 'INFO',\n",
    "    'data': {\n",
    "      'batch_size': 64,\n",
    "      'dataset_dir': 'movia/data',\n",
    "      'test_batch_size': 64,\n",
    "      'val_batch_size': 64,\n",
    "      'graph_pkl_filename': 'movia/adj_mx.pkl'\n",
    "    },\n",
    "    'model': {\n",
    "      'cl_decay_steps': 2000,\n",
    "      'filter_type': 'dual_random_walk',\n",
    "      'horizon': 12,\n",
    "      'input_dim': 2,\n",
    "      'l1_decay': 0,\n",
    "      'max_diffusion_step': 2,\n",
    "      'num_nodes': len(all_data.columns),\n",
    "      'num_rnn_layers': 2,\n",
    "      'output_dim': 1,\n",
    "      'rnn_units': 64,\n",
    "      'seq_len': 12,\n",
    "      'use_curriculum_learning': True\n",
    "    },\n",
    "    'train': {\n",
    "      'base_lr': 0.01,\n",
    "      'dropout': 0,\n",
    "      'epoch': 0,\n",
    "      'epochs': 100,\n",
    "      'epsilon': 1.0e-3,\n",
    "      'global_step': 0,\n",
    "      'lr_decay_ratio': 0.1,\n",
    "      'max_grad_norm': 5,\n",
    "      'max_to_keep': 100,\n",
    "      'min_learning_rate': 2.0e-06,\n",
    "      'optimizer': 'adam',\n",
    "      'patience': 50,\n",
    "      'steps': [20, 30, 40, 50],\n",
    "      'test_every_n_epochs': 10\n",
    "    }\n",
    "}\n",
    "\n",
    "with open(os.path.join(base_dir,'config.yml'), 'w') as outfile:\n",
    "    yaml.dump(config, outfile, default_flow_style=False)"
   ]
  },
  {
   "cell_type": "code",
   "execution_count": null,
   "metadata": {},
   "outputs": [
    {
     "name": "stdout",
     "output_type": "stream",
     "text": [
      "2018-11-08 21:44:50,850 - INFO - Log directory: data/model/dcrnn_DR_2_h_12_64-64_lr_0.01_bs_64_1108214450/\n",
      "2018-11-08 21:44:50,855 - INFO - {'base_dir': 'data/model', 'log_level': 'INFO', 'data': {'batch_size': 64, 'dataset_dir': 'movia/data', 'test_batch_size': 64, 'val_batch_size': 64, 'graph_pkl_filename': 'movia/adj_mx.pkl'}, 'model': {'cl_decay_steps': 2000, 'filter_type': 'dual_random_walk', 'horizon': 12, 'input_dim': 2, 'l1_decay': 0, 'max_diffusion_step': 2, 'num_nodes': 194, 'num_rnn_layers': 2, 'output_dim': 1, 'rnn_units': 64, 'seq_len': 12, 'use_curriculum_learning': True}, 'train': {'base_lr': 0.01, 'dropout': 0, 'epoch': 0, 'epochs': 100, 'epsilon': 0.001, 'global_step': 0, 'lr_decay_ratio': 0.1, 'max_grad_norm': 5, 'max_to_keep': 100, 'min_learning_rate': 2e-06, 'optimizer': 'adam', 'patience': 50, 'steps': [20, 30, 40, 50], 'test_every_n_epochs': 10}}\n",
      "2018-11-08 21:44:50,953 - INFO - ('x_train', (119, 12, 194, 2))\n",
      "2018-11-08 21:44:50,955 - INFO - ('y_train', (119, 12, 194, 2))\n",
      "2018-11-08 21:44:50,958 - INFO - ('x_val', (17, 12, 194, 2))\n",
      "2018-11-08 21:44:50,959 - INFO - ('y_val', (17, 12, 194, 2))\n",
      "2018-11-08 21:44:50,961 - INFO - ('x_test', (34, 12, 194, 2))\n",
      "2018-11-08 21:44:50,963 - INFO - ('y_test', (34, 12, 194, 2))\n",
      "WARNING:tensorflow:At least two cells provided to MultiRNNCell are the same object and will share weights.\n",
      "[<tf.Tensor 'Train/DCRNN/DCRNN_SEQ/unstack:0' shape=(64, 388) dtype=float32>, <tf.Tensor 'Train/DCRNN/DCRNN_SEQ/unstack:1' shape=(64, 388) dtype=float32>, <tf.Tensor 'Train/DCRNN/DCRNN_SEQ/unstack:2' shape=(64, 388) dtype=float32>, <tf.Tensor 'Train/DCRNN/DCRNN_SEQ/unstack:3' shape=(64, 388) dtype=float32>, <tf.Tensor 'Train/DCRNN/DCRNN_SEQ/unstack:4' shape=(64, 388) dtype=float32>, <tf.Tensor 'Train/DCRNN/DCRNN_SEQ/unstack:5' shape=(64, 388) dtype=float32>, <tf.Tensor 'Train/DCRNN/DCRNN_SEQ/unstack:6' shape=(64, 388) dtype=float32>, <tf.Tensor 'Train/DCRNN/DCRNN_SEQ/unstack:7' shape=(64, 388) dtype=float32>, <tf.Tensor 'Train/DCRNN/DCRNN_SEQ/unstack:8' shape=(64, 388) dtype=float32>, <tf.Tensor 'Train/DCRNN/DCRNN_SEQ/unstack:9' shape=(64, 388) dtype=float32>, <tf.Tensor 'Train/DCRNN/DCRNN_SEQ/unstack:10' shape=(64, 388) dtype=float32>, <tf.Tensor 'Train/DCRNN/DCRNN_SEQ/unstack:11' shape=(64, 388) dtype=float32>]\n",
      "[<tf.Tensor 'Test/DCRNN/DCRNN_SEQ/unstack:0' shape=(64, 388) dtype=float32>, <tf.Tensor 'Test/DCRNN/DCRNN_SEQ/unstack:1' shape=(64, 388) dtype=float32>, <tf.Tensor 'Test/DCRNN/DCRNN_SEQ/unstack:2' shape=(64, 388) dtype=float32>, <tf.Tensor 'Test/DCRNN/DCRNN_SEQ/unstack:3' shape=(64, 388) dtype=float32>, <tf.Tensor 'Test/DCRNN/DCRNN_SEQ/unstack:4' shape=(64, 388) dtype=float32>, <tf.Tensor 'Test/DCRNN/DCRNN_SEQ/unstack:5' shape=(64, 388) dtype=float32>, <tf.Tensor 'Test/DCRNN/DCRNN_SEQ/unstack:6' shape=(64, 388) dtype=float32>, <tf.Tensor 'Test/DCRNN/DCRNN_SEQ/unstack:7' shape=(64, 388) dtype=float32>, <tf.Tensor 'Test/DCRNN/DCRNN_SEQ/unstack:8' shape=(64, 388) dtype=float32>, <tf.Tensor 'Test/DCRNN/DCRNN_SEQ/unstack:9' shape=(64, 388) dtype=float32>, <tf.Tensor 'Test/DCRNN/DCRNN_SEQ/unstack:10' shape=(64, 388) dtype=float32>, <tf.Tensor 'Test/DCRNN/DCRNN_SEQ/unstack:11' shape=(64, 388) dtype=float32>]\n",
      "2018-11-08 21:45:11,095 - INFO - Total number of trainable parameters: 372352\n",
      "2018-11-08 21:45:12,113 - INFO - Start training ...\n"
     ]
    }
   ],
   "source": [
    "#IF running into ValueError: Variable rnn/basic_rnn_cell/kernel already exists, disallowed. Did you mean to set reuse=True or reuse=tf.AUTO_REUSE in VarScope? Originally defined at\n",
    "#Try restarting kernel\n",
    "os.chdir(os.path.join(base_dir,'..'))\n",
    "#%run run_demo.py --config_filename movia/config.yml --output_filename movia/out/out.npz\n",
    "import tensorflow as tf\n",
    "\n",
    "from lib.utils import load_graph_data\n",
    "from model.dcrnn_supervisor import DCRNNSupervisor\n",
    "use_cpu_only = False\n",
    "graph_pkl_filename = 'movia/adj_mx.pkl'\n",
    "tf_config = tf.ConfigProto()\n",
    "\n",
    "if use_cpu_only:\n",
    "    tf_config = tf.ConfigProto(device_count={'GPU': 0})\n",
    "tf_config.gpu_options.allow_growth = True\n",
    "_, _, adj_mx = load_graph_data(graph_pkl_filename)\n",
    "with tf.Session(config=tf_config) as sess:\n",
    "    supervisor = DCRNNSupervisor(adj_mx=adj_mx, **config)\n",
    "    supervisor.train(sess)\n",
    "    #supervisor.load(sess, config['train']['model_filename'])\n",
    "    outputs = supervisor.evaluate(sess)\n",
    "    np.savez_compressed(args.output_filename, **outputs)\n",
    "    print('Predictions saved as {}.'.format(args.output_filename))"
   ]
  }
 ],
 "metadata": {
  "kernelspec": {
   "display_name": "Python 3",
   "language": "python",
   "name": "python3"
  },
  "language_info": {
   "codemirror_mode": {
    "name": "ipython",
    "version": 3
   },
   "file_extension": ".py",
   "mimetype": "text/x-python",
   "name": "python",
   "nbconvert_exporter": "python",
   "pygments_lexer": "ipython3",
   "version": "3.6.5"
  }
 },
 "nbformat": 4,
 "nbformat_minor": 2
}
